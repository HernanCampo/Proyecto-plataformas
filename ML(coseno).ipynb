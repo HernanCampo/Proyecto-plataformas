{
 "cells": [
  {
   "cell_type": "code",
   "execution_count": 3,
   "metadata": {},
   "outputs": [],
   "source": [
    "# Cargo las librerias que voy a utilizar.\n",
    "import pandas as pd\n",
    "import numpy as np\n",
    "import matplotlib.pyplot as plt\n",
    "import seaborn as sns\n",
    "sns.set()\n",
    "import warnings\n",
    "import pickle\n",
    "import joblib\n",
    "from sklearn.decomposition import randomized_svd\n",
    "warnings.filterwarnings('ignore')\n",
    "from sklearn.feature_extraction.text import TfidfVectorizer\n",
    "from sklearn.metrics.pairwise import cosine_similarity"
   ]
  },
  {
   "cell_type": "code",
   "execution_count": 4,
   "metadata": {},
   "outputs": [],
   "source": [
    "# Leo el CSV que voy a utilizar para realizar el modelo junto a las columnas que voy a utilizar.\n",
    "df = pd.read_csv(\"plataformas.csv\", usecols=['id', 'type', 'title', 'listed_in', 'score'])"
   ]
  },
  {
   "cell_type": "code",
   "execution_count": 5,
   "metadata": {},
   "outputs": [],
   "source": [
    "df['title'] = df['title'].str.strip()"
   ]
  },
  {
   "cell_type": "code",
   "execution_count": 6,
   "metadata": {},
   "outputs": [
    {
     "name": "stdout",
     "output_type": "stream",
     "text": [
      "<class 'pandas.core.frame.DataFrame'>\n",
      "RangeIndex: 22998 entries, 0 to 22997\n",
      "Data columns (total 5 columns):\n",
      " #   Column     Non-Null Count  Dtype  \n",
      "---  ------     --------------  -----  \n",
      " 0   id         22998 non-null  object \n",
      " 1   type       22998 non-null  object \n",
      " 2   title      22998 non-null  object \n",
      " 3   listed_in  22998 non-null  object \n",
      " 4   score      22998 non-null  float64\n",
      "dtypes: float64(1), object(4)\n",
      "memory usage: 898.5+ KB\n"
     ]
    }
   ],
   "source": [
    "# Realizo unos vistazos rapidos.\n",
    "df.info()"
   ]
  },
  {
   "cell_type": "code",
   "execution_count": 7,
   "metadata": {},
   "outputs": [
    {
     "data": {
      "text/html": [
       "<div>\n",
       "<style scoped>\n",
       "    .dataframe tbody tr th:only-of-type {\n",
       "        vertical-align: middle;\n",
       "    }\n",
       "\n",
       "    .dataframe tbody tr th {\n",
       "        vertical-align: top;\n",
       "    }\n",
       "\n",
       "    .dataframe thead th {\n",
       "        text-align: right;\n",
       "    }\n",
       "</style>\n",
       "<table border=\"1\" class=\"dataframe\">\n",
       "  <thead>\n",
       "    <tr style=\"text-align: right;\">\n",
       "      <th></th>\n",
       "      <th>id</th>\n",
       "      <th>type</th>\n",
       "      <th>title</th>\n",
       "      <th>listed_in</th>\n",
       "      <th>score</th>\n",
       "    </tr>\n",
       "  </thead>\n",
       "  <tbody>\n",
       "    <tr>\n",
       "      <th>0</th>\n",
       "      <td>as1</td>\n",
       "      <td>movie</td>\n",
       "      <td>the grand seduction</td>\n",
       "      <td>comedy, drama</td>\n",
       "      <td>3.5</td>\n",
       "    </tr>\n",
       "    <tr>\n",
       "      <th>1</th>\n",
       "      <td>as2</td>\n",
       "      <td>movie</td>\n",
       "      <td>take care good night</td>\n",
       "      <td>drama, international</td>\n",
       "      <td>3.5</td>\n",
       "    </tr>\n",
       "  </tbody>\n",
       "</table>\n",
       "</div>"
      ],
      "text/plain": [
       "    id   type                 title             listed_in  score\n",
       "0  as1  movie   the grand seduction         comedy, drama    3.5\n",
       "1  as2  movie  take care good night  drama, international    3.5"
      ]
     },
     "execution_count": 7,
     "metadata": {},
     "output_type": "execute_result"
    }
   ],
   "source": [
    "df.head(2)"
   ]
  },
  {
   "cell_type": "code",
   "execution_count": 8,
   "metadata": {},
   "outputs": [],
   "source": [
    "df = df[df['type']== 'movie'].reset_index()\n",
    "df_corr = df[df['type']== 'movie'].reset_index()"
   ]
  },
  {
   "cell_type": "code",
   "execution_count": 9,
   "metadata": {},
   "outputs": [
    {
     "data": {
      "text/plain": [
       "array(['comedy, drama', 'drama, international', 'action, drama, suspense',\n",
       "       ..., 'action & adventure, documentaries, sports movies',\n",
       "       'international movies, lgbtq movies, romantic movies',\n",
       "       'cult movies, dramas, thrillers'], dtype=object)"
      ]
     },
     "execution_count": 9,
     "metadata": {},
     "output_type": "execute_result"
    }
   ],
   "source": [
    "df_corr['listed_in'].unique()"
   ]
  },
  {
   "cell_type": "code",
   "execution_count": 10,
   "metadata": {},
   "outputs": [
    {
     "name": "stdout",
     "output_type": "stream",
     "text": [
      "drama                             917\n",
      "documentaries                     508\n",
      "comedy                            489\n",
      "comedy, drama                     372\n",
      "dramas, international movies      362\n",
      "                                 ... \n",
      "comedy, mystery                     1\n",
      "family, fantasy, romance            1\n",
      "documentary, family, reality        1\n",
      "fantasy, musical, thriller          1\n",
      "cult movies, dramas, thrillers      1\n",
      "Name: listed_in, Length: 1114, dtype: int64\n"
     ]
    }
   ],
   "source": [
    "valores_unicos = df['listed_in'].value_counts()\n",
    "\n",
    "print(valores_unicos)"
   ]
  },
  {
   "cell_type": "code",
   "execution_count": 11,
   "metadata": {},
   "outputs": [
    {
     "data": {
      "text/plain": [
       "index        0\n",
       "id           0\n",
       "type         0\n",
       "title        0\n",
       "listed_in    0\n",
       "score        0\n",
       "dtype: int64"
      ]
     },
     "execution_count": 11,
     "metadata": {},
     "output_type": "execute_result"
    }
   ],
   "source": [
    "df.isnull().sum()"
   ]
  },
  {
   "cell_type": "code",
   "execution_count": 12,
   "metadata": {},
   "outputs": [
    {
     "data": {
      "text/plain": [
       "level_0      0\n",
       "index        0\n",
       "id           0\n",
       "type         0\n",
       "title        0\n",
       "listed_in    0\n",
       "score        0\n",
       "dtype: int64"
      ]
     },
     "execution_count": 12,
     "metadata": {},
     "output_type": "execute_result"
    }
   ],
   "source": [
    "df_corr.isnull().sum()"
   ]
  },
  {
   "cell_type": "code",
   "execution_count": 13,
   "metadata": {},
   "outputs": [],
   "source": [
    "categorias = {\n",
    "    'comedy': ['comedies', 'sports movies','comedy', 'sitcom', 'romantic comedy','stand', 'stand up','up comedy','parody','dramas', 'drama', 'romance','coming of age','teen', 'reality','romance', 'romantic comedy', 'romantic movies'],\n",
    "    'drama': ['dramas', 'drama','sports movies', 'romance','coming of age','teen', 'reality','romance', 'romantic comedy', 'romantic movies','comedies', 'comedy', 'sitcom', 'romantic comedy','stand', 'stand up','up comedy','parody'],\n",
    "    'action': ['action', 'action adventure', 'superhero','military and war','spyespionage','western','adventure', 'western','action adventure','superhero', 'survival',\n",
    "               'sci-fi', 'science fiction','sci'],\n",
    "    'adventure': ['adventure', 'western','action adventure','superhero', 'survival','western','action', 'action adventure', 'superhero','military and war','spyespionage','mystery','crime','western',\n",
    "                  'sci-fi', 'science fiction','sci'],\n",
    "    'thriller': ['thrillers', 'suspense','crime', 'cult movies','horror', 'horror movies', 'thriller','mystery'],\n",
    "    'sports': ['sports movies', 'sports','dance','fitness', 'health wellness'],\n",
    "    'documentaries': ['documentaries','sports movies', 'docuseries','animals nature','anthology','arts', 'biographical','arthouse','concert film','disaster','medical', \n",
    "                      'documentary','historical', 'history','lifestyle', 'lifestyle culture', 'science technology','special interest'],\n",
    "    'science fiction': ['sci-fi', 'science fiction','sci','action', 'action adventure', 'superhero','military and war','spyespionage','western','adventure', 'western','action adventure','superhero', 'survival',                        \n",
    "                        'thrillers', 'suspense','crime', 'cult movies','horror', 'horror movies', 'thriller','mystery','fantasy', 'fi fantasy','anime', 'anime series', 'anime features','animation', 'cartoons','adult animation'],\n",
    "    'anime':['anime', 'anime series', 'anime features'],\n",
    "    'animation':['animation', 'cartoons','adult animation'],\n",
    "    'fantasy':['fantasy', 'fi fantasy','anime', 'anime series', 'anime features','animation', 'cartoons','adult animation'],\n",
    "    'others': ['movies','and culture','children family movies','classic movies', 'classics', 'cooking food','entertainment','faith and spirituality', 'faith spirituality', 'family','independent movies',\n",
    "               'international', 'international movies', 'kids', 'latino', 'lgbtq', 'lgbtq movies','music','music musicals','musicals', 'music videos and concerts', 'musical', \n",
    "               'talk show and variety','unscripted','variety','young adult audience','news','black stories', 'buddy']\n",
    "}\n"
   ]
  },
  {
   "cell_type": "code",
   "execution_count": 14,
   "metadata": {},
   "outputs": [],
   "source": [
    "def categorias_claves(categorias_dic, categoria_lista):\n",
    "    claves = []\n",
    "    for key, values in categorias_dic.items():\n",
    "        if set(categoria_lista).intersection(values):\n",
    "            claves.append(key)\n",
    "    return claves\n",
    "\n",
    "df_corr['listed_in'] = df_corr['listed_in'].str.lower().str.split(', ')\n",
    "df_corr['categorias'] = df_corr['listed_in'].apply(lambda x: categorias_claves(categorias, x))\n",
    "df_corr['categorias'] = df_corr['categorias'].apply(lambda x: ', '.join(x))"
   ]
  },
  {
   "cell_type": "code",
   "execution_count": 15,
   "metadata": {},
   "outputs": [
    {
     "data": {
      "text/plain": [
       "Index(['level_0', 'index', 'id', 'type', 'title', 'listed_in', 'score',\n",
       "       'categorias'],\n",
       "      dtype='object')"
      ]
     },
     "execution_count": 15,
     "metadata": {},
     "output_type": "execute_result"
    }
   ],
   "source": [
    "df_corr.columns"
   ]
  },
  {
   "cell_type": "code",
   "execution_count": 16,
   "metadata": {},
   "outputs": [],
   "source": [
    "df_corr.drop(columns=['level_0', 'index', 'id','type','listed_in'],inplace= True )"
   ]
  },
  {
   "cell_type": "code",
   "execution_count": 17,
   "metadata": {},
   "outputs": [
    {
     "data": {
      "text/plain": [
       "'# crea las columnas dummies\\ndf_corr[[\\'comedy\\', \\'drama\\', \\'action\\', \\'adventure\\', \\'thriller\\', \\'sports\\', \\'documentaries\\', \\'science fiction\\', \\'anime\\', \\'animation\\', \\'fantasy\\', \\'others\\']] = 0\\n\\n# itera sobre las columnas dummies y verifica si la columna \"categorias\" contiene la subcadena correspondiente\\nfor col in df_corr[[\\'comedy\\', \\'drama\\', \\'action\\', \\'adventure\\', \\'thriller\\', \\'sports\\', \\'documentaries\\', \\'science fiction\\', \\'anime\\', \\'animation\\', \\'fantasy\\', \\'others\\']]:\\n    df_corr[col] = df_corr[\\'categorias\\'].str.contains(col, case=False).astype(int)'"
      ]
     },
     "execution_count": 17,
     "metadata": {},
     "output_type": "execute_result"
    }
   ],
   "source": [
    "\"\"\"# crea las columnas dummies\n",
    "df_corr[['comedy', 'drama', 'action', 'adventure', 'thriller', 'sports', 'documentaries', 'science fiction', 'anime', 'animation', 'fantasy', 'others']] = 0\n",
    "\n",
    "# itera sobre las columnas dummies y verifica si la columna \"categorias\" contiene la subcadena correspondiente\n",
    "for col in df_corr[['comedy', 'drama', 'action', 'adventure', 'thriller', 'sports', 'documentaries', 'science fiction', 'anime', 'animation', 'fantasy', 'others']]:\n",
    "    df_corr[col] = df_corr['categorias'].str.contains(col, case=False).astype(int)\"\"\"\n"
   ]
  },
  {
   "cell_type": "code",
   "execution_count": 18,
   "metadata": {},
   "outputs": [],
   "source": [
    "#df_corr = df_corr.drop(columns=['listed_in','categorias','type'])"
   ]
  },
  {
   "cell_type": "code",
   "execution_count": 19,
   "metadata": {},
   "outputs": [
    {
     "data": {
      "text/plain": [
       "'df_corr[\\'score\\'] = df_corr[\\'score\\'].astype(str).str.replace(\".\", \"\")\\ndf_corr[\\'score\\'] = df_corr[\\'score\\'].astype(int)\\ndf_corr.columns = df_corr.columns.str.strip()'"
      ]
     },
     "execution_count": 19,
     "metadata": {},
     "output_type": "execute_result"
    }
   ],
   "source": [
    "\"\"\"df_corr['score'] = df_corr['score'].astype(str).str.replace(\".\", \"\")\n",
    "df_corr['score'] = df_corr['score'].astype(int)\n",
    "df_corr.columns = df_corr.columns.str.strip()\"\"\""
   ]
  },
  {
   "cell_type": "code",
   "execution_count": 20,
   "metadata": {},
   "outputs": [
    {
     "data": {
      "text/html": [
       "<div>\n",
       "<style scoped>\n",
       "    .dataframe tbody tr th:only-of-type {\n",
       "        vertical-align: middle;\n",
       "    }\n",
       "\n",
       "    .dataframe tbody tr th {\n",
       "        vertical-align: top;\n",
       "    }\n",
       "\n",
       "    .dataframe thead th {\n",
       "        text-align: right;\n",
       "    }\n",
       "</style>\n",
       "<table border=\"1\" class=\"dataframe\">\n",
       "  <thead>\n",
       "    <tr style=\"text-align: right;\">\n",
       "      <th></th>\n",
       "      <th>title</th>\n",
       "      <th>score</th>\n",
       "      <th>categorias</th>\n",
       "    </tr>\n",
       "  </thead>\n",
       "  <tbody>\n",
       "    <tr>\n",
       "      <th>0</th>\n",
       "      <td>the grand seduction</td>\n",
       "      <td>3.5</td>\n",
       "      <td>comedy, drama</td>\n",
       "    </tr>\n",
       "    <tr>\n",
       "      <th>1</th>\n",
       "      <td>take care good night</td>\n",
       "      <td>3.5</td>\n",
       "      <td>comedy, drama, others</td>\n",
       "    </tr>\n",
       "    <tr>\n",
       "      <th>2</th>\n",
       "      <td>secrets of deception</td>\n",
       "      <td>3.5</td>\n",
       "      <td>comedy, drama, action, adventure, thriller, sc...</td>\n",
       "    </tr>\n",
       "    <tr>\n",
       "      <th>3</th>\n",
       "      <td>pink: staying true</td>\n",
       "      <td>3.5</td>\n",
       "      <td>documentaries</td>\n",
       "    </tr>\n",
       "    <tr>\n",
       "      <th>4</th>\n",
       "      <td>monster maker</td>\n",
       "      <td>3.5</td>\n",
       "      <td>comedy, drama, science fiction, fantasy</td>\n",
       "    </tr>\n",
       "    <tr>\n",
       "      <th>...</th>\n",
       "      <td>...</td>\n",
       "      <td>...</td>\n",
       "      <td>...</td>\n",
       "    </tr>\n",
       "    <tr>\n",
       "      <th>16476</th>\n",
       "      <td>zinzana</td>\n",
       "      <td>3.6</td>\n",
       "      <td>comedy, drama, thriller, science fiction, others</td>\n",
       "    </tr>\n",
       "    <tr>\n",
       "      <th>16477</th>\n",
       "      <td>zodiac</td>\n",
       "      <td>3.4</td>\n",
       "      <td>comedy, drama, thriller, science fiction</td>\n",
       "    </tr>\n",
       "    <tr>\n",
       "      <th>16478</th>\n",
       "      <td>zombieland</td>\n",
       "      <td>3.4</td>\n",
       "      <td>comedy, drama, thriller, science fiction</td>\n",
       "    </tr>\n",
       "    <tr>\n",
       "      <th>16479</th>\n",
       "      <td>zoom</td>\n",
       "      <td>3.6</td>\n",
       "      <td>comedy, drama</td>\n",
       "    </tr>\n",
       "    <tr>\n",
       "      <th>16480</th>\n",
       "      <td>zubaan</td>\n",
       "      <td>3.5</td>\n",
       "      <td>comedy, drama, others</td>\n",
       "    </tr>\n",
       "  </tbody>\n",
       "</table>\n",
       "<p>16481 rows × 3 columns</p>\n",
       "</div>"
      ],
      "text/plain": [
       "                      title  score  \\\n",
       "0       the grand seduction    3.5   \n",
       "1      take care good night    3.5   \n",
       "2      secrets of deception    3.5   \n",
       "3        pink: staying true    3.5   \n",
       "4             monster maker    3.5   \n",
       "...                     ...    ...   \n",
       "16476               zinzana    3.6   \n",
       "16477                zodiac    3.4   \n",
       "16478            zombieland    3.4   \n",
       "16479                  zoom    3.6   \n",
       "16480                zubaan    3.5   \n",
       "\n",
       "                                              categorias  \n",
       "0                                          comedy, drama  \n",
       "1                                  comedy, drama, others  \n",
       "2      comedy, drama, action, adventure, thriller, sc...  \n",
       "3                                          documentaries  \n",
       "4                comedy, drama, science fiction, fantasy  \n",
       "...                                                  ...  \n",
       "16476   comedy, drama, thriller, science fiction, others  \n",
       "16477           comedy, drama, thriller, science fiction  \n",
       "16478           comedy, drama, thriller, science fiction  \n",
       "16479                                      comedy, drama  \n",
       "16480                              comedy, drama, others  \n",
       "\n",
       "[16481 rows x 3 columns]"
      ]
     },
     "execution_count": 20,
     "metadata": {},
     "output_type": "execute_result"
    }
   ],
   "source": [
    "df_corr"
   ]
  },
  {
   "cell_type": "code",
   "execution_count": 21,
   "metadata": {},
   "outputs": [
    {
     "name": "stdout",
     "output_type": "stream",
     "text": [
      "<class 'pandas.core.frame.DataFrame'>\n",
      "RangeIndex: 16481 entries, 0 to 16480\n",
      "Data columns (total 3 columns):\n",
      " #   Column      Non-Null Count  Dtype  \n",
      "---  ------      --------------  -----  \n",
      " 0   title       16481 non-null  object \n",
      " 1   score       16481 non-null  float64\n",
      " 2   categorias  16481 non-null  object \n",
      "dtypes: float64(1), object(2)\n",
      "memory usage: 386.4+ KB\n"
     ]
    }
   ],
   "source": [
    "df_corr.info()"
   ]
  },
  {
   "cell_type": "code",
   "execution_count": 22,
   "metadata": {},
   "outputs": [
    {
     "data": {
      "text/plain": [
       "let there be light    3\n",
       "zapped                3\n",
       "mud                   3\n",
       "good kisser           3\n",
       "bratz: the movie      3\n",
       "                     ..\n",
       "six weeks             1\n",
       "sivappu malli         1\n",
       "sideways              1\n",
       "server sundaram       1\n",
       "zubaan                1\n",
       "Name: title, Length: 15943, dtype: int64"
      ]
     },
     "execution_count": 22,
     "metadata": {},
     "output_type": "execute_result"
    }
   ],
   "source": [
    "df['title'].value_counts()"
   ]
  },
  {
   "cell_type": "code",
   "execution_count": 23,
   "metadata": {},
   "outputs": [
    {
     "data": {
      "text/html": [
       "<div>\n",
       "<style scoped>\n",
       "    .dataframe tbody tr th:only-of-type {\n",
       "        vertical-align: middle;\n",
       "    }\n",
       "\n",
       "    .dataframe tbody tr th {\n",
       "        vertical-align: top;\n",
       "    }\n",
       "\n",
       "    .dataframe thead th {\n",
       "        text-align: right;\n",
       "    }\n",
       "</style>\n",
       "<table border=\"1\" class=\"dataframe\">\n",
       "  <thead>\n",
       "    <tr style=\"text-align: right;\">\n",
       "      <th></th>\n",
       "      <th>title</th>\n",
       "      <th>score</th>\n",
       "      <th>categorias</th>\n",
       "    </tr>\n",
       "  </thead>\n",
       "  <tbody>\n",
       "    <tr>\n",
       "      <th>0</th>\n",
       "      <td>the grand seduction</td>\n",
       "      <td>3.5</td>\n",
       "      <td>comedy, drama</td>\n",
       "    </tr>\n",
       "    <tr>\n",
       "      <th>1</th>\n",
       "      <td>take care good night</td>\n",
       "      <td>3.5</td>\n",
       "      <td>comedy, drama, others</td>\n",
       "    </tr>\n",
       "    <tr>\n",
       "      <th>2</th>\n",
       "      <td>secrets of deception</td>\n",
       "      <td>3.5</td>\n",
       "      <td>comedy, drama, action, adventure, thriller, sc...</td>\n",
       "    </tr>\n",
       "    <tr>\n",
       "      <th>3</th>\n",
       "      <td>pink: staying true</td>\n",
       "      <td>3.5</td>\n",
       "      <td>documentaries</td>\n",
       "    </tr>\n",
       "    <tr>\n",
       "      <th>4</th>\n",
       "      <td>monster maker</td>\n",
       "      <td>3.5</td>\n",
       "      <td>comedy, drama, science fiction, fantasy</td>\n",
       "    </tr>\n",
       "    <tr>\n",
       "      <th>...</th>\n",
       "      <td>...</td>\n",
       "      <td>...</td>\n",
       "      <td>...</td>\n",
       "    </tr>\n",
       "    <tr>\n",
       "      <th>16476</th>\n",
       "      <td>zinzana</td>\n",
       "      <td>3.6</td>\n",
       "      <td>comedy, drama, thriller, science fiction, others</td>\n",
       "    </tr>\n",
       "    <tr>\n",
       "      <th>16477</th>\n",
       "      <td>zodiac</td>\n",
       "      <td>3.4</td>\n",
       "      <td>comedy, drama, thriller, science fiction</td>\n",
       "    </tr>\n",
       "    <tr>\n",
       "      <th>16478</th>\n",
       "      <td>zombieland</td>\n",
       "      <td>3.4</td>\n",
       "      <td>comedy, drama, thriller, science fiction</td>\n",
       "    </tr>\n",
       "    <tr>\n",
       "      <th>16479</th>\n",
       "      <td>zoom</td>\n",
       "      <td>3.6</td>\n",
       "      <td>comedy, drama</td>\n",
       "    </tr>\n",
       "    <tr>\n",
       "      <th>16480</th>\n",
       "      <td>zubaan</td>\n",
       "      <td>3.5</td>\n",
       "      <td>comedy, drama, others</td>\n",
       "    </tr>\n",
       "  </tbody>\n",
       "</table>\n",
       "<p>16481 rows × 3 columns</p>\n",
       "</div>"
      ],
      "text/plain": [
       "                      title  score  \\\n",
       "0       the grand seduction    3.5   \n",
       "1      take care good night    3.5   \n",
       "2      secrets of deception    3.5   \n",
       "3        pink: staying true    3.5   \n",
       "4             monster maker    3.5   \n",
       "...                     ...    ...   \n",
       "16476               zinzana    3.6   \n",
       "16477                zodiac    3.4   \n",
       "16478            zombieland    3.4   \n",
       "16479                  zoom    3.6   \n",
       "16480                zubaan    3.5   \n",
       "\n",
       "                                              categorias  \n",
       "0                                          comedy, drama  \n",
       "1                                  comedy, drama, others  \n",
       "2      comedy, drama, action, adventure, thriller, sc...  \n",
       "3                                          documentaries  \n",
       "4                comedy, drama, science fiction, fantasy  \n",
       "...                                                  ...  \n",
       "16476   comedy, drama, thriller, science fiction, others  \n",
       "16477           comedy, drama, thriller, science fiction  \n",
       "16478           comedy, drama, thriller, science fiction  \n",
       "16479                                      comedy, drama  \n",
       "16480                              comedy, drama, others  \n",
       "\n",
       "[16481 rows x 3 columns]"
      ]
     },
     "execution_count": 23,
     "metadata": {},
     "output_type": "execute_result"
    }
   ],
   "source": [
    "df_corr"
   ]
  },
  {
   "cell_type": "code",
   "execution_count": 24,
   "metadata": {},
   "outputs": [],
   "source": [
    "# crear una instancia de TfidfVectorizer\n",
    "tfidf = TfidfVectorizer(stop_words='english')\n",
    "\n",
    "# crear la matriz de frecuencia de términos\n",
    "tfidf_matrix = tfidf.fit_transform(df_corr['categorias'])\n"
   ]
  },
  {
   "cell_type": "code",
   "execution_count": 25,
   "metadata": {},
   "outputs": [],
   "source": [
    "# calcular la similitud de coseno\n",
    "cosine_sim = cosine_similarity(tfidf_matrix, tfidf_matrix)\n"
   ]
  },
  {
   "cell_type": "code",
   "execution_count": 26,
   "metadata": {},
   "outputs": [
    {
     "name": "stdout",
     "output_type": "stream",
     "text": [
      "17                       zoe\n",
      "39                yellowneck\n",
      "56    winds of the wasteland\n",
      "66                wild geese\n",
      "74               white tiger\n",
      "Name: title, dtype: object\n"
     ]
    }
   ],
   "source": [
    "# obtener los índices de las películas más similares\n",
    "similar_movies = list(enumerate(cosine_sim[10]))\n",
    "\n",
    "# ordenar las películas por similitud\n",
    "sorted_movies = sorted(similar_movies, key=lambda x: x[1], reverse=True)\n",
    "\n",
    "# obtener los índices de las 5 películas más similares\n",
    "top_similar = [i[0] for i in sorted_movies[1:6]]\n",
    "\n",
    "# imprimir las 5 películas más similares\n",
    "print(df['title'].iloc[top_similar])\n"
   ]
  },
  {
   "cell_type": "code",
   "execution_count": 27,
   "metadata": {},
   "outputs": [],
   "source": [
    "def get_recommendations(titulo_pelicula: str):\n",
    "    \n",
    "    # Crear el vectorizador TF-IDF\n",
    "    vectorizer = TfidfVectorizer()\n",
    "\n",
    "    # Aplicar el vectorizador a la columna 'listed_in' para obtener la matriz de características\n",
    "    tfidf_matrix = vectorizer.fit_transform(df_corr['categorias'])\n",
    "\n",
    "    # Calcular la matriz de similitud de coseno\n",
    "    cosine_sim = cosine_similarity(tfidf_matrix)\n",
    "\n",
    "    # Obtener el índice de la película que coincide con el título proporcionado\n",
    "    idx = df.index[df_corr['title'] == titulo_pelicula.lower()].tolist()[0]\n",
    "\n",
    "    # Obtener las puntuaciones de similitud de coseno de la película con todas las demás películas\n",
    "    sim_scores = list(enumerate(cosine_sim[idx]))\n",
    "\n",
    "    # Ordenar las películas según las puntuaciones de similitud\n",
    "    sim_scores = sorted(sim_scores, key=lambda x: x[1], reverse=True)\n",
    "\n",
    "    # Obtener las cinco películas más similares, excluyendo la película de entrada\n",
    "    sim_scores = [i for i in sim_scores if df.index[i[0]] != idx]\n",
    "    sim_scores = sim_scores[:5]\n",
    "\n",
    "    # Obtener los títulos de las cinco películas más similares\n",
    "    recomendaciones = df.iloc[[i[0] for i in sim_scores]]['title'].tolist()\n",
    "\n",
    "    # Devolver las recomendaciones en el formato especificado\n",
    "    return {'recomendacion': recomendaciones}\n"
   ]
  },
  {
   "cell_type": "code",
   "execution_count": 28,
   "metadata": {},
   "outputs": [
    {
     "data": {
      "text/plain": [
       "{'recomendacion': ['take care good night',\n",
       "  'yatra (telugu)',\n",
       "  'yatra (malayalam)',\n",
       "  'where hands touch',\n",
       "  'wedding cha shinema']}"
      ]
     },
     "execution_count": 28,
     "metadata": {},
     "output_type": "execute_result"
    }
   ],
   "source": [
    "get_recommendations('into the forest')\n"
   ]
  },
  {
   "cell_type": "code",
   "execution_count": 29,
   "metadata": {},
   "outputs": [
    {
     "data": {
      "text/plain": [
       "{'recomendacion': ['grease live!',\n",
       "  \"david's mother\",\n",
       "  'take care',\n",
       "  \"summer '03\",\n",
       "  'zandalee']}"
      ]
     },
     "execution_count": 29,
     "metadata": {},
     "output_type": "execute_result"
    }
   ],
   "source": [
    "get_recommendations('the grand seduction')"
   ]
  },
  {
   "cell_type": "code",
   "execution_count": 30,
   "metadata": {},
   "outputs": [
    {
     "data": {
      "text/plain": [
       "{'recomendacion': ['stay tuned',\n",
       "  'technotise: edit & i',\n",
       "  'on happiness road',\n",
       "  'the congress',\n",
       "  'shrek 2']}"
      ]
     },
     "execution_count": 30,
     "metadata": {},
     "output_type": "execute_result"
    }
   ],
   "source": [
    "get_recommendations('tarzan')"
   ]
  },
  {
   "cell_type": "code",
   "execution_count": 31,
   "metadata": {},
   "outputs": [
    {
     "data": {
      "text/html": [
       "<div>\n",
       "<style scoped>\n",
       "    .dataframe tbody tr th:only-of-type {\n",
       "        vertical-align: middle;\n",
       "    }\n",
       "\n",
       "    .dataframe tbody tr th {\n",
       "        vertical-align: top;\n",
       "    }\n",
       "\n",
       "    .dataframe thead th {\n",
       "        text-align: right;\n",
       "    }\n",
       "</style>\n",
       "<table border=\"1\" class=\"dataframe\">\n",
       "  <thead>\n",
       "    <tr style=\"text-align: right;\">\n",
       "      <th></th>\n",
       "      <th>title</th>\n",
       "      <th>score</th>\n",
       "      <th>categorias</th>\n",
       "    </tr>\n",
       "  </thead>\n",
       "  <tbody>\n",
       "    <tr>\n",
       "      <th>7823</th>\n",
       "      <td>america the beautiful</td>\n",
       "      <td>3.5</td>\n",
       "      <td></td>\n",
       "    </tr>\n",
       "  </tbody>\n",
       "</table>\n",
       "</div>"
      ],
      "text/plain": [
       "                      title  score categorias\n",
       "7823  america the beautiful    3.5           "
      ]
     },
     "execution_count": 31,
     "metadata": {},
     "output_type": "execute_result"
    }
   ],
   "source": [
    "df_corr[df_corr['title']=='america the beautiful']"
   ]
  },
  {
   "cell_type": "code",
   "execution_count": 32,
   "metadata": {},
   "outputs": [
    {
     "data": {
      "text/plain": [
       "0"
      ]
     },
     "execution_count": 32,
     "metadata": {},
     "output_type": "execute_result"
    }
   ],
   "source": [
    "espacios_vacios = (df_corr['categorias'] == ' ').sum()\n",
    "espacios_vacios"
   ]
  },
  {
   "cell_type": "code",
   "execution_count": 33,
   "metadata": {},
   "outputs": [
    {
     "name": "stdout",
     "output_type": "stream",
     "text": [
      "La columna tiene espacios en blanco.\n"
     ]
    }
   ],
   "source": [
    "# Utilizando el método strip() para eliminar espacios en blanco al inicio y al final de cada valor de la columna\n",
    "df_corr['categorias'] = df_corr['categorias'].apply(lambda x: x.strip())\n",
    "\n",
    "# Utilizando el método str.contains() y una expresión regular para buscar valores que contengan espacios en blanco\n",
    "espacios_vacios =df_corr['categorias'].str.contains('\\s', regex=True).sum()\n",
    "\n",
    "if espacios_vacios > 0:\n",
    "    print('La columna tiene espacios en blanco.')\n",
    "else:\n",
    "    print('La columna no tiene espacios en blanco.')"
   ]
  },
  {
   "cell_type": "code",
   "execution_count": 34,
   "metadata": {},
   "outputs": [],
   "source": [
    "df_corr.to_csv('ML.csv', index=False, encoding=\"utf-8\")"
   ]
  },
  {
   "cell_type": "code",
   "execution_count": 35,
   "metadata": {},
   "outputs": [
    {
     "data": {
      "text/plain": [
       "title         0\n",
       "score         0\n",
       "categorias    0\n",
       "dtype: int64"
      ]
     },
     "execution_count": 35,
     "metadata": {},
     "output_type": "execute_result"
    }
   ],
   "source": [
    "df_corr.isnull().sum()"
   ]
  },
  {
   "cell_type": "code",
   "execution_count": 36,
   "metadata": {},
   "outputs": [],
   "source": [
    "df_corr = pd.read_csv('ML.csv')"
   ]
  },
  {
   "cell_type": "code",
   "execution_count": 37,
   "metadata": {},
   "outputs": [
    {
     "data": {
      "text/plain": [
       "title           0\n",
       "score           0\n",
       "categorias    802\n",
       "dtype: int64"
      ]
     },
     "execution_count": 37,
     "metadata": {},
     "output_type": "execute_result"
    }
   ],
   "source": [
    "df_corr.isnull().sum()"
   ]
  },
  {
   "cell_type": "code",
   "execution_count": 38,
   "metadata": {},
   "outputs": [],
   "source": [
    "# Llenar los valores nulos de la columna 'nombre_columna' con la palabra 'others'\n",
    "df_corr['categorias'] = df_corr['categorias'].fillna('others')\n"
   ]
  },
  {
   "cell_type": "code",
   "execution_count": 39,
   "metadata": {},
   "outputs": [
    {
     "name": "stdout",
     "output_type": "stream",
     "text": [
      "Empty DataFrame\n",
      "Columns: [title, score, categorias]\n",
      "Index: []\n"
     ]
    }
   ],
   "source": [
    "nulls = df_corr['categorias'].isnull()\n",
    "\n",
    "filas_con_nulls = df_corr[nulls]\n",
    "\n",
    "print(filas_con_nulls)"
   ]
  },
  {
   "cell_type": "code",
   "execution_count": 40,
   "metadata": {},
   "outputs": [],
   "source": [
    "df_corr.to_csv('ML.csv', index=False, encoding=\"utf-8\")"
   ]
  },
  {
   "cell_type": "code",
   "execution_count": 41,
   "metadata": {},
   "outputs": [],
   "source": [
    "df_corr = pd.read_csv('ML.csv')"
   ]
  },
  {
   "cell_type": "code",
   "execution_count": 42,
   "metadata": {},
   "outputs": [
    {
     "data": {
      "text/plain": [
       "title         0\n",
       "score         0\n",
       "categorias    0\n",
       "dtype: int64"
      ]
     },
     "execution_count": 42,
     "metadata": {},
     "output_type": "execute_result"
    }
   ],
   "source": [
    "df_corr.isnull().sum()"
   ]
  },
  {
   "cell_type": "code",
   "execution_count": 43,
   "metadata": {},
   "outputs": [],
   "source": [
    "#df_corr = pd.read_csv('ML.csv')\n",
    "# Crear el vectorizador TF-IDF\n",
    "vectorizer = TfidfVectorizer()\n",
    "# Aplicar el vectorizador a la columna 'listed_in' para obtener la matriz de características\n",
    "tfidf_matrix = vectorizer.fit_transform(df_corr['categorias'])\n",
    "# Calcular la matriz de similitud de coseno\n",
    "cosine_sim = cosine_similarity(tfidf_matrix)"
   ]
  },
  {
   "cell_type": "code",
   "execution_count": 44,
   "metadata": {},
   "outputs": [],
   "source": [
    "def get_recommendations(title: str):\n",
    "    \n",
    "    df_corr = pd.read_csv('ML.csv')\n",
    "    # Crear el vectorizador TF-IDF\n",
    "    vectorizer = TfidfVectorizer()\n",
    "    # Aplicar el vectorizador a la columna 'listed_in' para obtener la matriz de características\n",
    "    tfidf_matrix = vectorizer.fit_transform(df_corr['categorias'])\n",
    "    # Calcular la matriz de similitud de coseno\n",
    "    cosine_sim = cosine_similarity(tfidf_matrix) \n",
    "    idx = df_corr.index[df_corr['title'] == title.lower()].tolist()[0]\n",
    "\n",
    "    # Obtener las puntuaciones de similitud de coseno de la película con todas las demás películas\n",
    "    sim_scores = list(enumerate(cosine_sim[idx]))\n",
    "\n",
    "    # Ordenar las películas según las puntuaciones de similitud\n",
    "    sim_scores = sorted(sim_scores, key=lambda x: x[1], reverse=True)\n",
    "\n",
    "    # Obtener las cinco películas más similares, excluyendo la película de entrada\n",
    "    sim_scores = [i for i in sim_scores if df_corr.index[i[0]] != idx]\n",
    "    sim_scores = sim_scores[:5]\n",
    "\n",
    "    # Obtener los títulos de las cinco películas más similares\n",
    "    recomendaciones = df_corr.iloc[[i[0] for i in sim_scores]]['title'].tolist()\n",
    "\n",
    "    # Devolver las recomendaciones en el formato especificado\n",
    "    return {'recomendacion': recomendaciones}"
   ]
  },
  {
   "cell_type": "code",
   "execution_count": 45,
   "metadata": {},
   "outputs": [
    {
     "data": {
      "text/plain": [
       "{'recomendacion': ['stay tuned',\n",
       "  'technotise: edit & i',\n",
       "  'on happiness road',\n",
       "  'the congress',\n",
       "  'shrek 2']}"
      ]
     },
     "execution_count": 45,
     "metadata": {},
     "output_type": "execute_result"
    }
   ],
   "source": [
    "get_recommendations('tarzan')"
   ]
  },
  {
   "cell_type": "code",
   "execution_count": 46,
   "metadata": {},
   "outputs": [],
   "source": [
    "def matrix():\n",
    "    \n",
    "    df_corr = pd.read_csv('ML.csv')\n",
    "    # Crear el vectorizador TF-IDF\n",
    "    vectorizer = TfidfVectorizer()\n",
    "    # Aplicar el vectorizador a la columna 'listed_in' para obtener la matriz de características\n",
    "    tfidf_matrix = vectorizer.fit_transform(df_corr['categorias'])\n",
    "    # Calcular la matriz de similitud de coseno\n",
    "    cosine_sim1 = cosine_similarity(tfidf_matrix)\n",
    "    return cosine_sim1"
   ]
  },
  {
   "cell_type": "code",
   "execution_count": 47,
   "metadata": {},
   "outputs": [],
   "source": [
    "azul = 1 + 1"
   ]
  },
  {
   "cell_type": "code",
   "execution_count": 48,
   "metadata": {},
   "outputs": [
    {
     "data": {
      "text/plain": [
       "['modelo.pkl']"
      ]
     },
     "execution_count": 48,
     "metadata": {},
     "output_type": "execute_result"
    }
   ],
   "source": [
    "\n",
    "# Guardar el modelo como un archivo pickle\n",
    "joblib.dump(azul,\"modelo.pkl\", compress=3)"
   ]
  }
 ],
 "metadata": {
  "kernelspec": {
   "display_name": "Python 3",
   "language": "python",
   "name": "python3"
  },
  "language_info": {
   "codemirror_mode": {
    "name": "ipython",
    "version": 3
   },
   "file_extension": ".py",
   "mimetype": "text/x-python",
   "name": "python",
   "nbconvert_exporter": "python",
   "pygments_lexer": "ipython3",
   "version": "3.11.0"
  },
  "orig_nbformat": 4
 },
 "nbformat": 4,
 "nbformat_minor": 2
}
