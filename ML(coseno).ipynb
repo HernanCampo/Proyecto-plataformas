{
 "cells": [
  {
   "cell_type": "code",
   "execution_count": 38,
   "metadata": {},
   "outputs": [],
   "source": [
    "# Cargo las librerias que voy a utilizar.\n",
    "import pandas as pd\n",
    "import matplotlib.pyplot as plt\n",
    "import seaborn as sns\n",
    "sns.set()\n",
    "from fuzzywuzzy import fuzz\n",
    "import warnings\n",
    "warnings.filterwarnings('ignore')\n",
    "from sklearn.feature_extraction.text import TfidfVectorizer\n",
    "from sklearn.metrics.pairwise import cosine_similarity"
   ]
  },
  {
   "attachments": {},
   "cell_type": "markdown",
   "metadata": {},
   "source": [
    "En mi Modelo de ML decidi realizar dos pruebas ambos partiendo del mismo csv pero se le realizan acciones distintas a ambos."
   ]
  },
  {
   "cell_type": "code",
   "execution_count": 39,
   "metadata": {},
   "outputs": [],
   "source": [
    "# Leo el CSV que voy a utilizar para realizar el modelo junto a las columnas que voy a utilizar.\n",
    "df = pd.read_csv(\"plataformas.csv\", usecols=['id', 'type', 'title', 'listed_in', 'score'])"
   ]
  },
  {
   "cell_type": "code",
   "execution_count": 40,
   "metadata": {},
   "outputs": [],
   "source": [
    "df['title'] = df['title'].str.strip()"
   ]
  },
  {
   "cell_type": "code",
   "execution_count": 78,
   "metadata": {},
   "outputs": [
    {
     "data": {
      "text/html": [
       "<div>\n",
       "<style scoped>\n",
       "    .dataframe tbody tr th:only-of-type {\n",
       "        vertical-align: middle;\n",
       "    }\n",
       "\n",
       "    .dataframe tbody tr th {\n",
       "        vertical-align: top;\n",
       "    }\n",
       "\n",
       "    .dataframe thead th {\n",
       "        text-align: right;\n",
       "    }\n",
       "</style>\n",
       "<table border=\"1\" class=\"dataframe\">\n",
       "  <thead>\n",
       "    <tr style=\"text-align: right;\">\n",
       "      <th></th>\n",
       "      <th>index</th>\n",
       "      <th>id</th>\n",
       "      <th>type</th>\n",
       "      <th>title</th>\n",
       "      <th>listed_in</th>\n",
       "      <th>score</th>\n",
       "    </tr>\n",
       "  </thead>\n",
       "  <tbody>\n",
       "    <tr>\n",
       "      <th>7601</th>\n",
       "      <td>9423</td>\n",
       "      <td>as9424</td>\n",
       "      <td>movie</td>\n",
       "      <td>tarzan</td>\n",
       "      <td>action, animation, drama</td>\n",
       "      <td>3.5</td>\n",
       "    </tr>\n",
       "    <tr>\n",
       "      <th>8107</th>\n",
       "      <td>10160</td>\n",
       "      <td>ds493</td>\n",
       "      <td>movie</td>\n",
       "      <td>tarzan</td>\n",
       "      <td>action-adventure, animation, coming of age</td>\n",
       "      <td>3.5</td>\n",
       "    </tr>\n",
       "    <tr>\n",
       "      <th>15944</th>\n",
       "      <td>22342</td>\n",
       "      <td>ns8152</td>\n",
       "      <td>movie</td>\n",
       "      <td>tarzan</td>\n",
       "      <td>children &amp; family movies</td>\n",
       "      <td>3.6</td>\n",
       "    </tr>\n",
       "  </tbody>\n",
       "</table>\n",
       "</div>"
      ],
      "text/plain": [
       "       index      id   type   title  \\\n",
       "7601    9423  as9424  movie  tarzan   \n",
       "8107   10160   ds493  movie  tarzan   \n",
       "15944  22342  ns8152  movie  tarzan   \n",
       "\n",
       "                                        listed_in  score  \n",
       "7601                     action, animation, drama    3.5  \n",
       "8107   action-adventure, animation, coming of age    3.5  \n",
       "15944                    children & family movies    3.6  "
      ]
     },
     "execution_count": 78,
     "metadata": {},
     "output_type": "execute_result"
    }
   ],
   "source": [
    "df[df['title'] == 'tarzan'] "
   ]
  },
  {
   "cell_type": "code",
   "execution_count": 42,
   "metadata": {},
   "outputs": [
    {
     "name": "stdout",
     "output_type": "stream",
     "text": [
      "<class 'pandas.core.frame.DataFrame'>\n",
      "RangeIndex: 22998 entries, 0 to 22997\n",
      "Data columns (total 5 columns):\n",
      " #   Column     Non-Null Count  Dtype  \n",
      "---  ------     --------------  -----  \n",
      " 0   id         22998 non-null  object \n",
      " 1   type       22998 non-null  object \n",
      " 2   title      22998 non-null  object \n",
      " 3   listed_in  22998 non-null  object \n",
      " 4   score      22998 non-null  float64\n",
      "dtypes: float64(1), object(4)\n",
      "memory usage: 898.5+ KB\n"
     ]
    }
   ],
   "source": [
    "# Realizo unos vistazos rapidos.\n",
    "df.info()"
   ]
  },
  {
   "cell_type": "code",
   "execution_count": 43,
   "metadata": {},
   "outputs": [
    {
     "data": {
      "text/html": [
       "<div>\n",
       "<style scoped>\n",
       "    .dataframe tbody tr th:only-of-type {\n",
       "        vertical-align: middle;\n",
       "    }\n",
       "\n",
       "    .dataframe tbody tr th {\n",
       "        vertical-align: top;\n",
       "    }\n",
       "\n",
       "    .dataframe thead th {\n",
       "        text-align: right;\n",
       "    }\n",
       "</style>\n",
       "<table border=\"1\" class=\"dataframe\">\n",
       "  <thead>\n",
       "    <tr style=\"text-align: right;\">\n",
       "      <th></th>\n",
       "      <th>id</th>\n",
       "      <th>type</th>\n",
       "      <th>title</th>\n",
       "      <th>listed_in</th>\n",
       "      <th>score</th>\n",
       "    </tr>\n",
       "  </thead>\n",
       "  <tbody>\n",
       "    <tr>\n",
       "      <th>0</th>\n",
       "      <td>as1</td>\n",
       "      <td>movie</td>\n",
       "      <td>the grand seduction</td>\n",
       "      <td>comedy, drama</td>\n",
       "      <td>3.5</td>\n",
       "    </tr>\n",
       "    <tr>\n",
       "      <th>1</th>\n",
       "      <td>as2</td>\n",
       "      <td>movie</td>\n",
       "      <td>take care good night</td>\n",
       "      <td>drama, international</td>\n",
       "      <td>3.5</td>\n",
       "    </tr>\n",
       "  </tbody>\n",
       "</table>\n",
       "</div>"
      ],
      "text/plain": [
       "    id   type                 title             listed_in  score\n",
       "0  as1  movie   the grand seduction         comedy, drama    3.5\n",
       "1  as2  movie  take care good night  drama, international    3.5"
      ]
     },
     "execution_count": 43,
     "metadata": {},
     "output_type": "execute_result"
    }
   ],
   "source": [
    "df.head(2)"
   ]
  },
  {
   "cell_type": "code",
   "execution_count": 44,
   "metadata": {},
   "outputs": [],
   "source": [
    "# Para que el modelo sea mas liviano decido filtrar las columnas solo por movie y crear 2 dataframe.\n",
    "df = df[df['type']== 'movie'].reset_index()\n",
    "df_corr = df[df['type']== 'movie']"
   ]
  },
  {
   "cell_type": "code",
   "execution_count": 45,
   "metadata": {},
   "outputs": [
    {
     "data": {
      "text/html": [
       "<div>\n",
       "<style scoped>\n",
       "    .dataframe tbody tr th:only-of-type {\n",
       "        vertical-align: middle;\n",
       "    }\n",
       "\n",
       "    .dataframe tbody tr th {\n",
       "        vertical-align: top;\n",
       "    }\n",
       "\n",
       "    .dataframe thead th {\n",
       "        text-align: right;\n",
       "    }\n",
       "</style>\n",
       "<table border=\"1\" class=\"dataframe\">\n",
       "  <thead>\n",
       "    <tr style=\"text-align: right;\">\n",
       "      <th></th>\n",
       "      <th>index</th>\n",
       "      <th>id</th>\n",
       "      <th>type</th>\n",
       "      <th>title</th>\n",
       "      <th>listed_in</th>\n",
       "      <th>score</th>\n",
       "    </tr>\n",
       "  </thead>\n",
       "  <tbody>\n",
       "    <tr>\n",
       "      <th>0</th>\n",
       "      <td>0</td>\n",
       "      <td>as1</td>\n",
       "      <td>movie</td>\n",
       "      <td>the grand seduction</td>\n",
       "      <td>comedy, drama</td>\n",
       "      <td>3.5</td>\n",
       "    </tr>\n",
       "    <tr>\n",
       "      <th>1</th>\n",
       "      <td>1</td>\n",
       "      <td>as2</td>\n",
       "      <td>movie</td>\n",
       "      <td>take care good night</td>\n",
       "      <td>drama, international</td>\n",
       "      <td>3.5</td>\n",
       "    </tr>\n",
       "    <tr>\n",
       "      <th>2</th>\n",
       "      <td>2</td>\n",
       "      <td>as3</td>\n",
       "      <td>movie</td>\n",
       "      <td>secrets of deception</td>\n",
       "      <td>action, drama, suspense</td>\n",
       "      <td>3.5</td>\n",
       "    </tr>\n",
       "    <tr>\n",
       "      <th>3</th>\n",
       "      <td>3</td>\n",
       "      <td>as4</td>\n",
       "      <td>movie</td>\n",
       "      <td>pink: staying true</td>\n",
       "      <td>documentary</td>\n",
       "      <td>3.5</td>\n",
       "    </tr>\n",
       "    <tr>\n",
       "      <th>4</th>\n",
       "      <td>4</td>\n",
       "      <td>as5</td>\n",
       "      <td>movie</td>\n",
       "      <td>monster maker</td>\n",
       "      <td>drama, fantasy</td>\n",
       "      <td>3.5</td>\n",
       "    </tr>\n",
       "    <tr>\n",
       "      <th>...</th>\n",
       "      <td>...</td>\n",
       "      <td>...</td>\n",
       "      <td>...</td>\n",
       "      <td>...</td>\n",
       "      <td>...</td>\n",
       "      <td>...</td>\n",
       "    </tr>\n",
       "    <tr>\n",
       "      <th>16476</th>\n",
       "      <td>22992</td>\n",
       "      <td>ns8802</td>\n",
       "      <td>movie</td>\n",
       "      <td>zinzana</td>\n",
       "      <td>dramas, international movies, thrillers</td>\n",
       "      <td>3.6</td>\n",
       "    </tr>\n",
       "    <tr>\n",
       "      <th>16477</th>\n",
       "      <td>22993</td>\n",
       "      <td>ns8803</td>\n",
       "      <td>movie</td>\n",
       "      <td>zodiac</td>\n",
       "      <td>cult movies, dramas, thrillers</td>\n",
       "      <td>3.4</td>\n",
       "    </tr>\n",
       "    <tr>\n",
       "      <th>16478</th>\n",
       "      <td>22995</td>\n",
       "      <td>ns8805</td>\n",
       "      <td>movie</td>\n",
       "      <td>zombieland</td>\n",
       "      <td>comedies, horror movies</td>\n",
       "      <td>3.4</td>\n",
       "    </tr>\n",
       "    <tr>\n",
       "      <th>16479</th>\n",
       "      <td>22996</td>\n",
       "      <td>ns8806</td>\n",
       "      <td>movie</td>\n",
       "      <td>zoom</td>\n",
       "      <td>children &amp; family movies, comedies</td>\n",
       "      <td>3.6</td>\n",
       "    </tr>\n",
       "    <tr>\n",
       "      <th>16480</th>\n",
       "      <td>22997</td>\n",
       "      <td>ns8807</td>\n",
       "      <td>movie</td>\n",
       "      <td>zubaan</td>\n",
       "      <td>dramas, international movies, music &amp; musicals</td>\n",
       "      <td>3.5</td>\n",
       "    </tr>\n",
       "  </tbody>\n",
       "</table>\n",
       "<p>16481 rows × 6 columns</p>\n",
       "</div>"
      ],
      "text/plain": [
       "       index      id   type                 title  \\\n",
       "0          0     as1  movie   the grand seduction   \n",
       "1          1     as2  movie  take care good night   \n",
       "2          2     as3  movie  secrets of deception   \n",
       "3          3     as4  movie    pink: staying true   \n",
       "4          4     as5  movie         monster maker   \n",
       "...      ...     ...    ...                   ...   \n",
       "16476  22992  ns8802  movie               zinzana   \n",
       "16477  22993  ns8803  movie                zodiac   \n",
       "16478  22995  ns8805  movie            zombieland   \n",
       "16479  22996  ns8806  movie                  zoom   \n",
       "16480  22997  ns8807  movie                zubaan   \n",
       "\n",
       "                                            listed_in  score  \n",
       "0                                       comedy, drama    3.5  \n",
       "1                                drama, international    3.5  \n",
       "2                             action, drama, suspense    3.5  \n",
       "3                                         documentary    3.5  \n",
       "4                                      drama, fantasy    3.5  \n",
       "...                                               ...    ...  \n",
       "16476         dramas, international movies, thrillers    3.6  \n",
       "16477                  cult movies, dramas, thrillers    3.4  \n",
       "16478                         comedies, horror movies    3.4  \n",
       "16479              children & family movies, comedies    3.6  \n",
       "16480  dramas, international movies, music & musicals    3.5  \n",
       "\n",
       "[16481 rows x 6 columns]"
      ]
     },
     "execution_count": 45,
     "metadata": {},
     "output_type": "execute_result"
    }
   ],
   "source": [
    "df_corr"
   ]
  },
  {
   "cell_type": "code",
   "execution_count": 46,
   "metadata": {},
   "outputs": [
    {
     "data": {
      "text/plain": [
       "array(['comedy, drama', 'drama, international', 'action, drama, suspense',\n",
       "       ..., 'comedies, horror movies',\n",
       "       'children & family movies, comedies',\n",
       "       'dramas, international movies, music & musicals'], dtype=object)"
      ]
     },
     "metadata": {},
     "output_type": "display_data"
    }
   ],
   "source": [
    "from IPython.display import display\n",
    "valores_unicos = df['listed_in'].values\n",
    "display(valores_unicos)\n"
   ]
  },
  {
   "cell_type": "code",
   "execution_count": 47,
   "metadata": {},
   "outputs": [],
   "source": [
    "with open('valores_unicos.txt', 'w') as f:\n",
    "    for valor in valores_unicos:\n",
    "        f.write(str(valor) + '\\n')\n"
   ]
  },
  {
   "cell_type": "code",
   "execution_count": 48,
   "metadata": {},
   "outputs": [
    {
     "data": {
      "text/plain": [
       "index        0\n",
       "id           0\n",
       "type         0\n",
       "title        0\n",
       "listed_in    0\n",
       "score        0\n",
       "dtype: int64"
      ]
     },
     "execution_count": 48,
     "metadata": {},
     "output_type": "execute_result"
    }
   ],
   "source": [
    "df.isnull().sum()"
   ]
  },
  {
   "cell_type": "code",
   "execution_count": 49,
   "metadata": {},
   "outputs": [
    {
     "data": {
      "text/plain": [
       "index        0\n",
       "id           0\n",
       "type         0\n",
       "title        0\n",
       "listed_in    0\n",
       "score        0\n",
       "dtype: int64"
      ]
     },
     "execution_count": 49,
     "metadata": {},
     "output_type": "execute_result"
    }
   ],
   "source": [
    "df_corr.isnull().sum()"
   ]
  },
  {
   "attachments": {},
   "cell_type": "markdown",
   "metadata": {},
   "source": [
    "En este punto deccidi que uno de los df iba a tener que modificar su columna listed_in. Esto devido a que las multiples pruebas en el deploy fallaban.\n",
    "Al llevar las categorias o columna listed_in a solo un par de categorias el modelo presenta mucho menos carga de matrices. \n",
    "Para realizar esto verifique el ccontenido de la columna listed_in y lo distribui en las distintas categorias. Algunas se repiten ya que eso lo considere yo."
   ]
  },
  {
   "cell_type": "code",
   "execution_count": 50,
   "metadata": {},
   "outputs": [],
   "source": [
    "def separar_y_contar_caracteristicas(df, columna):\n",
    "    caracteristicas = {}\n",
    "    # Se itera sobre cada registro en la columna seleccionada del dataframe\n",
    "    for registro in df[columna]:\n",
    "        # Se separan las características del registro utilizando el separador \", \"\n",
    "        lista_caracteristicas = registro.split(', ')\n",
    "        # Se itera sobre cada característica en la lista de características del registro\n",
    "        for caracteristica in lista_caracteristicas:\n",
    "        # Se actualiza el diccionario con la característica y su frecuencia\n",
    "            if caracteristica not in caracteristicas:\n",
    "                caracteristicas[caracteristica] = 1\n",
    "            else:\n",
    "                caracteristicas[caracteristica] += 1\n",
    "    # Se retorna el diccionario con las características y su frecuencia\n",
    "    return caracteristicas"
   ]
  },
  {
   "cell_type": "code",
   "execution_count": 51,
   "metadata": {},
   "outputs": [],
   "source": [
    "dicci = separar_y_contar_caracteristicas(df_corr, 'listed_in')"
   ]
  },
  {
   "cell_type": "code",
   "execution_count": 52,
   "metadata": {},
   "outputs": [],
   "source": [
    "# Define una función que agrupa las características similares de una lista de características dadas.\n",
    "def agrupar_caracteristicas(caracteristicas):\n",
    "    grupos = [] # crea una lista vacía para guardar los grupos\n",
    "    \n",
    "    # Itera por cada una de las características dadas\n",
    "    for caracteristica in caracteristicas:\n",
    "        pertenece_a_grupo_existente = False # Establece un valor inicial para la variable pertenece_a_grupo_existente\n",
    "        \n",
    "        # Itera por cada uno de los grupos existentes para verificar si la característica pertenece a alguno de ellos\n",
    "        for grupo in grupos:\n",
    "            # Compara la similitud entre la característica y el primer elemento del grupo usando la función token_set_ratio de la biblioteca FuzzyWuzzy\n",
    "            similitud = fuzz.token_set_ratio(caracteristica, grupo[0])\n",
    "            # Si la similitud es mayor al 30%, consideramos que pertenece al mismo grupo\n",
    "            if similitud > 30:  \n",
    "                # Añade la característica al grupo existente\n",
    "                grupo.append(caracteristica)\n",
    "                pertenece_a_grupo_existente = True # Cambia el valor de la variable pertenece_a_grupo_existente a True\n",
    "                break # Sal del bucle for si ya se ha encontrado un grupo existente para la característica\n",
    "        \n",
    "        # Si la característica no pertenece a ningún grupo existente, crea un nuevo grupo con la característica como primer elemento\n",
    "        if not pertenece_a_grupo_existente:\n",
    "            grupos.append([caracteristica])\n",
    "    \n",
    "    # Crea un diccionario para guardar los grupos de características similares\n",
    "    caracteristicas_agrupadas = {}\n",
    "    \n",
    "    # Itera por cada uno de los grupos\n",
    "    for i, grupo in enumerate(grupos):\n",
    "        nombre_grupo = f'Grupo {i+1}' # Crea un nombre para el grupo\n",
    "        caracteristicas_agrupadas[nombre_grupo] = grupo # Agrega el grupo al diccionario con el nombre correspondiente\n",
    "    \n",
    "    return caracteristicas_agrupadas # Devuelve el diccionario con los grupos de características similares"
   ]
  },
  {
   "cell_type": "code",
   "execution_count": 53,
   "metadata": {},
   "outputs": [],
   "source": [
    "grupos = agrupar_caracteristicas(dicci)"
   ]
  },
  {
   "cell_type": "code",
   "execution_count": 54,
   "metadata": {},
   "outputs": [
    {
     "name": "stdout",
     "output_type": "stream",
     "text": [
      "{'Grupo 1': ['comedy', 'action', 'documentary', 'anime', 'romance', 'unscripted', 'family', 'movies', 'coming of age', 'concert film', 'crime', 'variety', 'parody', 'romantic comedy', 'buddy', 'medical', 'reality', 'mystery', 'documentaries', 'black stories', 'history', 'cooking & food', 'sitcom', 'comedies', 'horror movies', 'cult movies', 'stand-up comedy'], 'Grupo 2': ['drama', 'international', 'fantasy', 'entertainment', 'animation', 'musical', 'biographical', 'animals & nature', 'dance', 'survival', 'disaster', 'dramas', 'anime features'], 'Grupo 3': ['suspense', 'special interest', 'science fiction', 'adventure', 'sports', 'western', 'arthouse', 'music', 'lifestyle', 'superhero', 'spy/espionage', 'news', 'teen', 'classics', 'science & technology', 'independent movies', 'classic movies', 'sports movies'], 'Grupo 4': ['kids', 'fitness', 'thrillers'], 'Grupo 5': ['horror', 'historical', 'thriller', 'anthology'], 'Grupo 6': ['arts', 'latino', 'cartoons', 'health & wellness', 'sci-fi & fantasy'], 'Grupo 7': ['and culture', 'music videos and concerts', 'faith and spirituality', 'military and war', 'young adult audience', 'talk show and variety', 'action-adventure', 'stand up', 'lifestyle & culture', 'adult animation', 'action & adventure'], 'Grupo 8': ['lgbtq', 'lgbtq+', 'lgbtq movies'], 'Grupo 9': ['children & family movies', 'international movies', 'romantic movies'], 'Grupo 10': ['music & musicals', 'faith & spirituality']}\n"
     ]
    }
   ],
   "source": [
    "print(grupos)"
   ]
  },
  {
   "cell_type": "code",
   "execution_count": 55,
   "metadata": {},
   "outputs": [],
   "source": [
    "#Cree el diccionario qeu voy a utilizar\n",
    "categorias = {'comedy': ['comedy', 'action', 'romance', 'family', 'coming of age', 'parody', 'romantic comedy', 'buddy', 'medical', \n",
    "              'reality', 'mystery', 'black stories', 'sitcom', 'comedies','stand-up comedy','stand up'], \n",
    "  \n",
    "              'drama': ['drama', 'romantic movies', 'fantasy', 'survival', 'disaster', 'dramas','coming of age', 'crime','teen','romance','family'], \n",
    "              \n",
    "              'science fiction': ['science fiction', 'adventure', 'western', 'superhero', 'spy/espionage', 'sci-fi & fantasy', 'action-adventure', 'action & adventure', 'science fiction'], \n",
    "              \n",
    "              'animation': ['kids', 'cartoons','cartoon', 'animation','anime','adult animation','anime features'], \n",
    "              \n",
    "              'thriller': ['horror', 'historical','suspense', 'thriller', 'anthology', 'thrillers','mystery','horror movies','cult movies'], \n",
    "              \n",
    "              'documentaries': ['and culture','history','documentary', 'documentaries','biographical','animals & nature', 'military and war', 'young adult audience', \n",
    "                                'talk show and variety', 'special interest','special interest', 'lifestyle & culture', 'lifestyle', 'arthouse',\n",
    "                                'sports movies', 'sports', 'fitness','cooking & food','arts', 'latino', 'health & wellness','science & technology'], \n",
    "              \n",
    "              'action': ['suspense', 'science fiction', 'adventure', 'western', 'superhero', 'spy/espionage', 'sci-fi & fantasy', 'action-adventure', 'action & adventure', 'science fiction'], \n",
    "              \n",
    "              'others': ['children & family movies', 'international movies','lgbtq', 'lgbtq+', 'lgbtq movies','entertainment','unscripted','movies','international',\n",
    "                         'news','classics','independent movies', 'classic movies'], \n",
    "              \n",
    "              'music': ['music & musicals', 'music', 'faith & spirituality','music videos and concerts', 'faith and spirituality','dance','musical','concert film','variety']}"
   ]
  },
  {
   "cell_type": "code",
   "execution_count": 56,
   "metadata": {},
   "outputs": [],
   "source": [
    "# Agregar una nueva columna al DataFrame df_corr con las categorías que corresponden a cada registro\n",
    "df_corr['categorias'] = df['listed_in'].apply(lambda x: ','.join([key for key, value in categorias.items() if any(val in x for val in value)]))\n",
    "# El método apply se usa para aplicar la función lambda a cada elemento de la columna 'listed_in' del DataFrame df\n",
    "# La función lambda se encarga de buscar las categorías que corresponden a cada registro a partir de la columna 'listed_in'\n",
    "# La función lambda toma como entrada cada registro de la columna 'listed_in' y realiza lo siguiente:\n",
    "    # Crea una lista con las claves del diccionario categorias que tienen al menos un valor que coincide con la lista de características del registro\n",
    "    # Esta lista se crea usando una comprensión de listas y la función any(), que verifica si al menos un elemento de la lista de valores del diccionario está presente en la lista de características del registro\n",
    "    # Luego, la lista de claves se une usando una coma y se devuelve como la categoría del registro\n",
    "# El resultado se asigna a la nueva columna 'categorias' del DataFrame df_corr\n"
   ]
  },
  {
   "cell_type": "code",
   "execution_count": 57,
   "metadata": {},
   "outputs": [
    {
     "data": {
      "text/html": [
       "<div>\n",
       "<style scoped>\n",
       "    .dataframe tbody tr th:only-of-type {\n",
       "        vertical-align: middle;\n",
       "    }\n",
       "\n",
       "    .dataframe tbody tr th {\n",
       "        vertical-align: top;\n",
       "    }\n",
       "\n",
       "    .dataframe thead th {\n",
       "        text-align: right;\n",
       "    }\n",
       "</style>\n",
       "<table border=\"1\" class=\"dataframe\">\n",
       "  <thead>\n",
       "    <tr style=\"text-align: right;\">\n",
       "      <th></th>\n",
       "      <th>index</th>\n",
       "      <th>id</th>\n",
       "      <th>type</th>\n",
       "      <th>title</th>\n",
       "      <th>listed_in</th>\n",
       "      <th>score</th>\n",
       "      <th>categorias</th>\n",
       "    </tr>\n",
       "  </thead>\n",
       "  <tbody>\n",
       "    <tr>\n",
       "      <th>0</th>\n",
       "      <td>0</td>\n",
       "      <td>as1</td>\n",
       "      <td>movie</td>\n",
       "      <td>the grand seduction</td>\n",
       "      <td>comedy, drama</td>\n",
       "      <td>3.5</td>\n",
       "      <td>comedy,drama</td>\n",
       "    </tr>\n",
       "    <tr>\n",
       "      <th>1</th>\n",
       "      <td>1</td>\n",
       "      <td>as2</td>\n",
       "      <td>movie</td>\n",
       "      <td>take care good night</td>\n",
       "      <td>drama, international</td>\n",
       "      <td>3.5</td>\n",
       "      <td>drama,others</td>\n",
       "    </tr>\n",
       "    <tr>\n",
       "      <th>2</th>\n",
       "      <td>2</td>\n",
       "      <td>as3</td>\n",
       "      <td>movie</td>\n",
       "      <td>secrets of deception</td>\n",
       "      <td>action, drama, suspense</td>\n",
       "      <td>3.5</td>\n",
       "      <td>comedy,drama,thriller,action</td>\n",
       "    </tr>\n",
       "    <tr>\n",
       "      <th>3</th>\n",
       "      <td>3</td>\n",
       "      <td>as4</td>\n",
       "      <td>movie</td>\n",
       "      <td>pink: staying true</td>\n",
       "      <td>documentary</td>\n",
       "      <td>3.5</td>\n",
       "      <td>documentaries</td>\n",
       "    </tr>\n",
       "    <tr>\n",
       "      <th>4</th>\n",
       "      <td>4</td>\n",
       "      <td>as5</td>\n",
       "      <td>movie</td>\n",
       "      <td>monster maker</td>\n",
       "      <td>drama, fantasy</td>\n",
       "      <td>3.5</td>\n",
       "      <td>drama</td>\n",
       "    </tr>\n",
       "  </tbody>\n",
       "</table>\n",
       "</div>"
      ],
      "text/plain": [
       "   index   id   type                 title                listed_in  score  \\\n",
       "0      0  as1  movie   the grand seduction            comedy, drama    3.5   \n",
       "1      1  as2  movie  take care good night     drama, international    3.5   \n",
       "2      2  as3  movie  secrets of deception  action, drama, suspense    3.5   \n",
       "3      3  as4  movie    pink: staying true              documentary    3.5   \n",
       "4      4  as5  movie         monster maker           drama, fantasy    3.5   \n",
       "\n",
       "                     categorias  \n",
       "0                  comedy,drama  \n",
       "1                  drama,others  \n",
       "2  comedy,drama,thriller,action  \n",
       "3                 documentaries  \n",
       "4                         drama  "
      ]
     },
     "execution_count": 57,
     "metadata": {},
     "output_type": "execute_result"
    }
   ],
   "source": [
    "df_corr.head()"
   ]
  },
  {
   "cell_type": "code",
   "execution_count": 58,
   "metadata": {},
   "outputs": [
    {
     "name": "stdout",
     "output_type": "stream",
     "text": [
      "<class 'pandas.core.frame.DataFrame'>\n",
      "Int64Index: 16481 entries, 0 to 16480\n",
      "Data columns (total 7 columns):\n",
      " #   Column      Non-Null Count  Dtype  \n",
      "---  ------      --------------  -----  \n",
      " 0   index       16481 non-null  int64  \n",
      " 1   id          16481 non-null  object \n",
      " 2   type        16481 non-null  object \n",
      " 3   title       16481 non-null  object \n",
      " 4   listed_in   16481 non-null  object \n",
      " 5   score       16481 non-null  float64\n",
      " 6   categorias  16481 non-null  object \n",
      "dtypes: float64(1), int64(1), object(5)\n",
      "memory usage: 1.0+ MB\n"
     ]
    }
   ],
   "source": [
    "df_corr.info()"
   ]
  },
  {
   "cell_type": "code",
   "execution_count": 59,
   "metadata": {},
   "outputs": [],
   "source": [
    "#Dropeo las columnas que no voy a usar.\n",
    "df_corr.drop(columns=['index', 'id','type','listed_in'],inplace= True )"
   ]
  },
  {
   "attachments": {},
   "cell_type": "markdown",
   "metadata": {},
   "source": [
    "En este punto en un momento intente otro modelo donde generaba variables dummies pero el mismo se volvia insostenible era demasiado pesado. Decidi descartarlo pero les proveo la creacion de las columnas por si alguno le interesa realizar pruebas.\n",
    "\n",
    "creo las columnas dummies\n",
    "df_corr[['comedy', 'drama', 'action', 'adventure', 'thriller', 'sports', 'documentaries', 'science fiction', 'anime', 'animation', 'fantasy', 'others']] = 0\n",
    "\n",
    "itero sobre las columnas dummies y verifica si la columna \"categorias\" contiene la subcadena correspondiente\n",
    "for col in df_corr[['comedy', 'drama', 'action', 'adventure', 'thriller', 'sports', 'documentaries', 'science fiction', 'anime', 'animation', 'fantasy', 'others']]:\n",
    "    df_corr[col] = df_corr['categorias'].str.contains(col, case=False).astype(int)\n"
   ]
  },
  {
   "cell_type": "code",
   "execution_count": 60,
   "metadata": {},
   "outputs": [
    {
     "data": {
      "text/html": [
       "<div>\n",
       "<style scoped>\n",
       "    .dataframe tbody tr th:only-of-type {\n",
       "        vertical-align: middle;\n",
       "    }\n",
       "\n",
       "    .dataframe tbody tr th {\n",
       "        vertical-align: top;\n",
       "    }\n",
       "\n",
       "    .dataframe thead th {\n",
       "        text-align: right;\n",
       "    }\n",
       "</style>\n",
       "<table border=\"1\" class=\"dataframe\">\n",
       "  <thead>\n",
       "    <tr style=\"text-align: right;\">\n",
       "      <th></th>\n",
       "      <th>title</th>\n",
       "      <th>score</th>\n",
       "      <th>categorias</th>\n",
       "    </tr>\n",
       "  </thead>\n",
       "  <tbody>\n",
       "    <tr>\n",
       "      <th>0</th>\n",
       "      <td>the grand seduction</td>\n",
       "      <td>3.5</td>\n",
       "      <td>comedy,drama</td>\n",
       "    </tr>\n",
       "    <tr>\n",
       "      <th>1</th>\n",
       "      <td>take care good night</td>\n",
       "      <td>3.5</td>\n",
       "      <td>drama,others</td>\n",
       "    </tr>\n",
       "    <tr>\n",
       "      <th>2</th>\n",
       "      <td>secrets of deception</td>\n",
       "      <td>3.5</td>\n",
       "      <td>comedy,drama,thriller,action</td>\n",
       "    </tr>\n",
       "    <tr>\n",
       "      <th>3</th>\n",
       "      <td>pink: staying true</td>\n",
       "      <td>3.5</td>\n",
       "      <td>documentaries</td>\n",
       "    </tr>\n",
       "    <tr>\n",
       "      <th>4</th>\n",
       "      <td>monster maker</td>\n",
       "      <td>3.5</td>\n",
       "      <td>drama</td>\n",
       "    </tr>\n",
       "    <tr>\n",
       "      <th>...</th>\n",
       "      <td>...</td>\n",
       "      <td>...</td>\n",
       "      <td>...</td>\n",
       "    </tr>\n",
       "    <tr>\n",
       "      <th>16476</th>\n",
       "      <td>zinzana</td>\n",
       "      <td>3.6</td>\n",
       "      <td>drama,thriller,others</td>\n",
       "    </tr>\n",
       "    <tr>\n",
       "      <th>16477</th>\n",
       "      <td>zodiac</td>\n",
       "      <td>3.4</td>\n",
       "      <td>drama,thriller,others</td>\n",
       "    </tr>\n",
       "    <tr>\n",
       "      <th>16478</th>\n",
       "      <td>zombieland</td>\n",
       "      <td>3.4</td>\n",
       "      <td>comedy,thriller,others</td>\n",
       "    </tr>\n",
       "    <tr>\n",
       "      <th>16479</th>\n",
       "      <td>zoom</td>\n",
       "      <td>3.6</td>\n",
       "      <td>comedy,drama,others</td>\n",
       "    </tr>\n",
       "    <tr>\n",
       "      <th>16480</th>\n",
       "      <td>zubaan</td>\n",
       "      <td>3.5</td>\n",
       "      <td>drama,others,music</td>\n",
       "    </tr>\n",
       "  </tbody>\n",
       "</table>\n",
       "<p>16481 rows × 3 columns</p>\n",
       "</div>"
      ],
      "text/plain": [
       "                      title  score                    categorias\n",
       "0       the grand seduction    3.5                  comedy,drama\n",
       "1      take care good night    3.5                  drama,others\n",
       "2      secrets of deception    3.5  comedy,drama,thriller,action\n",
       "3        pink: staying true    3.5                 documentaries\n",
       "4             monster maker    3.5                         drama\n",
       "...                     ...    ...                           ...\n",
       "16476               zinzana    3.6         drama,thriller,others\n",
       "16477                zodiac    3.4         drama,thriller,others\n",
       "16478            zombieland    3.4        comedy,thriller,others\n",
       "16479                  zoom    3.6           comedy,drama,others\n",
       "16480                zubaan    3.5            drama,others,music\n",
       "\n",
       "[16481 rows x 3 columns]"
      ]
     },
     "execution_count": 60,
     "metadata": {},
     "output_type": "execute_result"
    }
   ],
   "source": [
    "# Verifico como quedo el DF.\n",
    "df_corr"
   ]
  },
  {
   "cell_type": "code",
   "execution_count": null,
   "metadata": {},
   "outputs": [],
   "source": []
  },
  {
   "attachments": {},
   "cell_type": "markdown",
   "metadata": {},
   "source": [
    "<b><font size=\"16\"><font face=\"Arial\"><font color=\"red\">EDA</font><b>"
   ]
  },
  {
   "cell_type": "code",
   "execution_count": 61,
   "metadata": {},
   "outputs": [
    {
     "data": {
      "text/html": [
       "<div>\n",
       "<style scoped>\n",
       "    .dataframe tbody tr th:only-of-type {\n",
       "        vertical-align: middle;\n",
       "    }\n",
       "\n",
       "    .dataframe tbody tr th {\n",
       "        vertical-align: top;\n",
       "    }\n",
       "\n",
       "    .dataframe thead th {\n",
       "        text-align: right;\n",
       "    }\n",
       "</style>\n",
       "<table border=\"1\" class=\"dataframe\">\n",
       "  <thead>\n",
       "    <tr style=\"text-align: right;\">\n",
       "      <th></th>\n",
       "      <th>title</th>\n",
       "      <th>score</th>\n",
       "      <th>categorias</th>\n",
       "    </tr>\n",
       "  </thead>\n",
       "  <tbody>\n",
       "    <tr>\n",
       "      <th>0</th>\n",
       "      <td>the grand seduction</td>\n",
       "      <td>3.5</td>\n",
       "      <td>comedy,drama</td>\n",
       "    </tr>\n",
       "    <tr>\n",
       "      <th>1</th>\n",
       "      <td>take care good night</td>\n",
       "      <td>3.5</td>\n",
       "      <td>drama,others</td>\n",
       "    </tr>\n",
       "    <tr>\n",
       "      <th>2</th>\n",
       "      <td>secrets of deception</td>\n",
       "      <td>3.5</td>\n",
       "      <td>comedy,drama,thriller,action</td>\n",
       "    </tr>\n",
       "    <tr>\n",
       "      <th>3</th>\n",
       "      <td>pink: staying true</td>\n",
       "      <td>3.5</td>\n",
       "      <td>documentaries</td>\n",
       "    </tr>\n",
       "    <tr>\n",
       "      <th>4</th>\n",
       "      <td>monster maker</td>\n",
       "      <td>3.5</td>\n",
       "      <td>drama</td>\n",
       "    </tr>\n",
       "  </tbody>\n",
       "</table>\n",
       "</div>"
      ],
      "text/plain": [
       "                  title  score                    categorias\n",
       "0   the grand seduction    3.5                  comedy,drama\n",
       "1  take care good night    3.5                  drama,others\n",
       "2  secrets of deception    3.5  comedy,drama,thriller,action\n",
       "3    pink: staying true    3.5                 documentaries\n",
       "4         monster maker    3.5                         drama"
      ]
     },
     "execution_count": 61,
     "metadata": {},
     "output_type": "execute_result"
    }
   ],
   "source": [
    "df_corr.head()"
   ]
  },
  {
   "cell_type": "code",
   "execution_count": 62,
   "metadata": {},
   "outputs": [
    {
     "name": "stdout",
     "output_type": "stream",
     "text": [
      "<class 'pandas.core.frame.DataFrame'>\n",
      "Int64Index: 16481 entries, 0 to 16480\n",
      "Data columns (total 3 columns):\n",
      " #   Column      Non-Null Count  Dtype  \n",
      "---  ------      --------------  -----  \n",
      " 0   title       16481 non-null  object \n",
      " 1   score       16481 non-null  float64\n",
      " 2   categorias  16481 non-null  object \n",
      "dtypes: float64(1), object(2)\n",
      "memory usage: 515.0+ KB\n"
     ]
    }
   ],
   "source": [
    "df_corr.info()"
   ]
  },
  {
   "attachments": {},
   "cell_type": "markdown",
   "metadata": {},
   "source": [
    "<b>Este EDA lo realizo en base al dataset que uso para ML<b>"
   ]
  },
  {
   "attachments": {},
   "cell_type": "markdown",
   "metadata": {},
   "source": [
    "Lo que busco revisar con estos graficos es las caracteristicas unicas de cada pelicula.\n"
   ]
  },
  {
   "cell_type": "markdown",
   "metadata": {},
   "source": [
    "Por ejemplo el primer grafico compare cual era la categoria que mas se repetia de manera individual.\n"
   ]
  },
  {
   "cell_type": "code",
   "execution_count": 63,
   "metadata": {},
   "outputs": [
    {
     "data": {
      "image/png": "[encoded data removed]",
      "text/plain": [
       "<Figure size 640x480 with 1 Axes>"
      ]
     },
     "metadata": {},
     "output_type": "display_data"
    }
   ],
   "source": [
    "df1 = df_corr\n",
    "df1['categorias_list'] = df1['categorias'].str.split(',')\n",
    "df_exploded = df1.explode('categorias_list')\n",
    "\n",
    "categorias_count = df_exploded['categorias_list'].value_counts()\n",
    "plt.barh(categorias_count.index, categorias_count.values)\n",
    "plt.title(\"Cantidad de películas por categoría\")\n",
    "plt.xlabel(\"Cantidad de películas\")\n",
    "plt.ylabel(\"Categoría\")\n",
    "plt.show()\n"
   ]
  },
  {
   "attachments": {},
   "cell_type": "markdown",
   "metadata": {},
   "source": [
    "El segundo utilice un grafico circular para verlo de manera porcentual."
   ]
  },
  {
   "cell_type": "code",
   "execution_count": 64,
   "metadata": {},
   "outputs": [
    {
     "data": {
      "image/png": "[encoded data removed]",
      "text/plain": [
       "<Figure size 640x480 with 1 Axes>"
      ]
     },
     "metadata": {},
     "output_type": "display_data"
    }
   ],
   "source": [
    "plt.pie(categorias_count.values, labels=categorias_count.index, autopct='%1.1f%%')\n",
    "plt.title(\"Porcentaje de películas por categoría\")\n",
    "plt.show()"
   ]
  },
  {
   "attachments": {},
   "cell_type": "markdown",
   "metadata": {},
   "source": [
    "<b><font size=\"16\"><font face=\"Arial\"><font color=\"Blue\">Modelo de Machine Learning</font><b>"
   ]
  },
  {
   "attachments": {},
   "cell_type": "markdown",
   "metadata": {},
   "source": [
    "<b>Similitud de Coseno<b>"
   ]
  },
  {
   "attachments": {},
   "cell_type": "markdown",
   "metadata": {},
   "source": [
    "A partir de aca realizo distintas pruebas para el modelo. \n",
    "Tome un modelo de recomendaccion por relacion de cosenos item-item. \n",
    "Donde ingresando un parametro decide buscar los mas parecidos.\n",
    "Por ejemplo si le indico que busque palabras o oraciones que contengan la palabra \"queso\" el mismo bsucaria la que mas se acerca a lo buscado.\n",
    "En este caso lo realizaremos por el titulo de la pelicula."
   ]
  },
  {
   "attachments": {},
   "cell_type": "markdown",
   "metadata": {},
   "source": [
    "Aca simplemente realice un vistaso de como funciona el TfidfVectorizer."
   ]
  },
  {
   "cell_type": "code",
   "execution_count": 65,
   "metadata": {},
   "outputs": [
    {
     "name": "stdout",
     "output_type": "stream",
     "text": [
      "583                   stick man\n",
      "623                 solar flare\n",
      "1417                 hope ranch\n",
      "1624    fairytale: a true story\n",
      "1634                  explorers\n",
      "Name: title, dtype: object\n"
     ]
    }
   ],
   "source": [
    "# creo una instancia de TfidfVectorizer\n",
    "tfidf = TfidfVectorizer(stop_words='english')\n",
    "\n",
    "# creo la matriz de frecuencia de términos\n",
    "tfidf_matrix = tfidf.fit_transform(df_corr['categorias'])\n",
    "\n",
    "# calculo la similitud de coseno\n",
    "cosine_sim = cosine_similarity(tfidf_matrix)\n",
    "\n",
    "# obtengo los índices de las películas más similares\n",
    "similar_movies = list(enumerate(cosine_sim[10]))\n",
    "\n",
    "# ordeno las películas por similitud\n",
    "sorted_movies = sorted(similar_movies, key=lambda x: x[1], reverse=True)\n",
    "\n",
    "# obtengo los índices de las 5 películas más similares\n",
    "top_similar = [i[0] for i in sorted_movies[1:6]]\n",
    "\n",
    "# imprimo las 5 películas más similares\n",
    "print(df['title'].iloc[top_similar])"
   ]
  },
  {
   "attachments": {},
   "cell_type": "markdown",
   "metadata": {},
   "source": [
    "A partir de lo anterior empiezo a probar distintas funciones."
   ]
  },
  {
   "attachments": {},
   "cell_type": "markdown",
   "metadata": {},
   "source": [
    "Esta es mi primer prueba una funcion simple pero pesada. Tambien le faltaba arreglar detalles al codigo."
   ]
  },
  {
   "cell_type": "code",
   "execution_count": 66,
   "metadata": {},
   "outputs": [],
   "source": [
    "def get_recommendations(titulo_pelicula: str):\n",
    "    \n",
    "    # Creo el vectorizador TF-IDF\n",
    "    vectorizer = TfidfVectorizer()\n",
    "\n",
    "    # Aplico el vectorizador a la columna 'listed_in' para obtener la matriz de características\n",
    "    tfidf_matrix = vectorizer.fit_transform(df['listed_in'])\n",
    "\n",
    "    # Calculo la matriz de similitud de coseno\n",
    "    cosine_sim = cosine_similarity(tfidf_matrix)\n",
    "\n",
    "    # obtengo el índice de la película que coincide con el título proporcionado\n",
    "    idx = df.index[df['title'] == titulo_pelicula.lower()].tolist()[0]\n",
    "\n",
    "    # obtengo las puntuaciones de similitud de coseno de la película con todas las demás películas\n",
    "    sim_scores = list(enumerate(cosine_sim[idx]))\n",
    "\n",
    "    # Ordeno las películas según las puntuaciones de similitud\n",
    "    sim_scores = sorted(sim_scores, key=lambda x: x[1], reverse=True)\n",
    "\n",
    "    # obtengo las cinco películas más similares, excluyendo la película de entrada\n",
    "    sim_scores = [i for i in sim_scores if df.index[i[0]] != idx]\n",
    "    sim_scores = sim_scores[:5]\n",
    "\n",
    "    # obtengo los títulos de las cinco películas más similares\n",
    "    recomendaciones = df.iloc[[i[0] for i in sim_scores]]['title'].tolist()\n",
    "\n",
    "    return {'recomendacion': recomendaciones}\n"
   ]
  },
  {
   "cell_type": "code",
   "execution_count": 67,
   "metadata": {},
   "outputs": [
    {
     "data": {
      "text/plain": [
       "{'recomendacion': ['the lovely bones',\n",
       "  \"pan's labyrinth\",\n",
       "  'cosmos laundromat: first cycle',\n",
       "  'rainbow jelly',\n",
       "  'mirage']}"
      ]
     },
     "execution_count": 67,
     "metadata": {},
     "output_type": "execute_result"
    }
   ],
   "source": [
    "get_recommendations('into the forest')\n"
   ]
  },
  {
   "cell_type": "code",
   "execution_count": 68,
   "metadata": {},
   "outputs": [
    {
     "data": {
      "text/plain": [
       "{'recomendacion': [\"summer '03\",\n",
       "  'you, me and him',\n",
       "  'walter',\n",
       "  'waiting on mary',\n",
       "  'the romantics']}"
      ]
     },
     "execution_count": 68,
     "metadata": {},
     "output_type": "execute_result"
    }
   ],
   "source": [
    "get_recommendations('the grand seduction')"
   ]
  },
  {
   "cell_type": "code",
   "execution_count": 69,
   "metadata": {},
   "outputs": [
    {
     "data": {
      "text/plain": [
       "{'recomendacion': ['on happiness road',\n",
       "  'metal skin panic madox-1',\n",
       "  'nuttiest nutcracker',\n",
       "  'iwish',\n",
       "  'chance']}"
      ]
     },
     "execution_count": 69,
     "metadata": {},
     "output_type": "execute_result"
    }
   ],
   "source": [
    "get_recommendations('tarzan')"
   ]
  },
  {
   "cell_type": "code",
   "execution_count": 70,
   "metadata": {},
   "outputs": [],
   "source": [
    "df_corr.to_csv('ML.csv', index=False, encoding=\"utf-8\")"
   ]
  },
  {
   "cell_type": "code",
   "execution_count": 71,
   "metadata": {},
   "outputs": [
    {
     "data": {
      "text/plain": [
       "title              0\n",
       "score              0\n",
       "categorias         0\n",
       "categorias_list    0\n",
       "dtype: int64"
      ]
     },
     "execution_count": 71,
     "metadata": {},
     "output_type": "execute_result"
    }
   ],
   "source": [
    "df_corr.isnull().sum()"
   ]
  },
  {
   "cell_type": "code",
   "execution_count": 72,
   "metadata": {},
   "outputs": [],
   "source": [
    "# Creo el vectorizador TF-IDF\n",
    "vectorizer = TfidfVectorizer()\n",
    "# Aplico el vectorizador a la columna 'listed_in' para obtener la matriz de características\n",
    "tfidf_matrix = vectorizer.fit_transform(df_corr['categorias'])\n",
    "# Calculo la matriz de similitud de coseno\n",
    "cosine_sim = cosine_similarity(tfidf_matrix)"
   ]
  },
  {
   "cell_type": "code",
   "execution_count": 81,
   "metadata": {},
   "outputs": [],
   "source": [
    "def get_recommendationB(title: str):    \n",
    "    \n",
    "    #Me aseguro que si escriben en mayuscula llevarlo a minuscula.\n",
    "    title = title.lower()\n",
    "    \n",
    "    # Creo el vectorizador TF-IDF\n",
    "    tfidf = TfidfVectorizer(stop_words='english')\n",
    "    \n",
    "    # Aplico el vectorizador a la columna para obtener la matriz de características.\n",
    "    tfidf_matrix = tfidf.fit_transform(df_corr['categorias'])\n",
    "    \n",
    "    # Obtengo el índice de la película que coincide con el título proporcionado\n",
    "    idx = df_corr.index[df_corr['title'] == title.lower()].tolist()[0]\n",
    "    \n",
    "    # Calculo la matriz de similitud de coseno\n",
    "    cosine_sim = cosine_similarity(tfidf_matrix[idx], tfidf_matrix)\n",
    "    \n",
    "    # Obtengo las puntuaciones de similitud de coseno de la película con todas las demás películas\n",
    "    sim_scores = list(enumerate(cosine_sim[0]))\n",
    "    \n",
    "    # Ordeno las películas según las puntuaciones de similitud\n",
    "    sim_scores = sorted(sim_scores, key=lambda x: x[1], reverse=True)\n",
    "    \n",
    "    # Obtengo las películas similares con la mejor puntuación de score\n",
    "    sim_scores = [i for i in sim_scores if i[0] != idx]\n",
    "    sim_scores = sorted(sim_scores, key=lambda x: df_corr['score'].iloc[x[0]], reverse=True)[:5]\n",
    "    \n",
    "    # Obtengo los títulos de las películas seleccionadas\n",
    "    respuesta = df_corr.iloc[[i[0] for i in sim_scores]]['title'].tolist()\n",
    "    \n",
    "    \n",
    "    return {'recomendacion': respuesta}"
   ]
  },
  {
   "cell_type": "code",
   "execution_count": 82,
   "metadata": {},
   "outputs": [
    {
     "data": {
      "text/plain": [
       "{'recomendacion': ['rolling home',\n",
       "  'the westerner',\n",
       "  'disney adventures in babysitting',\n",
       "  'the journey of natty gann',\n",
       "  'the man who killed hitler and then the bigfoot']}"
      ]
     },
     "execution_count": 82,
     "metadata": {},
     "output_type": "execute_result"
    }
   ],
   "source": [
    "get_recommendationB('into the forest')"
   ]
  },
  {
   "cell_type": "code",
   "execution_count": 83,
   "metadata": {},
   "outputs": [
    {
     "data": {
      "text/plain": [
       "{'recomendacion': ['15 minutes of war',\n",
       "  'do you wanna dance?',\n",
       "  'poor liza',\n",
       "  \"sara's\",\n",
       "  'server sundaram']}"
      ]
     },
     "execution_count": 83,
     "metadata": {},
     "output_type": "execute_result"
    }
   ],
   "source": [
    "get_recommendationB('the grand seduction')"
   ]
  },
  {
   "cell_type": "code",
   "execution_count": 84,
   "metadata": {},
   "outputs": [
    {
     "data": {
      "text/plain": [
       "{'recomendacion': ['lend a paw',\n",
       "  'spirit rider',\n",
       "  'joseph: king of dreams',\n",
       "  'welcome to the space show (english dub)',\n",
       "  'go buster - baby bus cartoons']}"
      ]
     },
     "execution_count": 84,
     "metadata": {},
     "output_type": "execute_result"
    }
   ],
   "source": [
    "get_recommendationB('tarzan')"
   ]
  }
 ],
 "metadata": {
  "kernelspec": {
   "display_name": "Python 3",
   "language": "python",
   "name": "python3"
  },
  "language_info": {
   "codemirror_mode": {
    "name": "ipython",
    "version": 3
   },
   "file_extension": ".py",
   "mimetype": "text/x-python",
   "name": "python",
   "nbconvert_exporter": "python",
   "pygments_lexer": "ipython3",
   "version": "3.11.0"
  },
  "orig_nbformat": 4
 },
 "nbformat": 4,
 "nbformat_minor": 2
}
