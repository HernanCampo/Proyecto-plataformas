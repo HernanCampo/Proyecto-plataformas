{
 "cells": [
  {
   "cell_type": "code",
   "execution_count": 220,
   "metadata": {},
   "outputs": [],
   "source": [
    "#Importacion de las librerias que se van a utilizar.\n",
    "import pandas as pd\n",
    "from collections import Counter\n",
    "from sklearn.feature_extraction.text import TfidfVectorizer\n",
    "from sklearn.metrics.pairwise import cosine_similarity\n"
   ]
  },
  {
   "cell_type": "code",
   "execution_count": 221,
   "metadata": {},
   "outputs": [],
   "source": [
    "# Cargo el archivo CSV en un DataFrame para poder utilizarlo.\n",
    "df = pd.read_csv('plataformas.csv',parse_dates=['date_added'])"
   ]
  },
  {
   "cell_type": "code",
   "execution_count": 222,
   "metadata": {},
   "outputs": [
    {
     "data": {
      "text/html": [
       "<div>\n",
       "<style scoped>\n",
       "    .dataframe tbody tr th:only-of-type {\n",
       "        vertical-align: middle;\n",
       "    }\n",
       "\n",
       "    .dataframe tbody tr th {\n",
       "        vertical-align: top;\n",
       "    }\n",
       "\n",
       "    .dataframe thead th {\n",
       "        text-align: right;\n",
       "    }\n",
       "</style>\n",
       "<table border=\"1\" class=\"dataframe\">\n",
       "  <thead>\n",
       "    <tr style=\"text-align: right;\">\n",
       "      <th></th>\n",
       "      <th>id</th>\n",
       "      <th>type</th>\n",
       "      <th>title</th>\n",
       "      <th>director</th>\n",
       "      <th>cast</th>\n",
       "      <th>country</th>\n",
       "      <th>date_added</th>\n",
       "      <th>release_year</th>\n",
       "      <th>rating</th>\n",
       "      <th>listed_in</th>\n",
       "      <th>description</th>\n",
       "      <th>duration_int</th>\n",
       "      <th>duration_type</th>\n",
       "      <th>score</th>\n",
       "    </tr>\n",
       "  </thead>\n",
       "  <tbody>\n",
       "    <tr>\n",
       "      <th>21149</th>\n",
       "      <td>ns6959</td>\n",
       "      <td>movie</td>\n",
       "      <td>her</td>\n",
       "      <td>spike jonze</td>\n",
       "      <td>joaquin phoenix, scarlett johansson, amy adams...</td>\n",
       "      <td>united states</td>\n",
       "      <td>2018-07-29</td>\n",
       "      <td>2013</td>\n",
       "      <td>r</td>\n",
       "      <td>dramas, romantic movies, sci-fi &amp; fantasy</td>\n",
       "      <td>love comes to a lonely writer in the sleekest ...</td>\n",
       "      <td>126.0</td>\n",
       "      <td>min</td>\n",
       "      <td>3.6</td>\n",
       "    </tr>\n",
       "  </tbody>\n",
       "</table>\n",
       "</div>"
      ],
      "text/plain": [
       "           id   type title     director  \\\n",
       "21149  ns6959  movie   her  spike jonze   \n",
       "\n",
       "                                                    cast        country  \\\n",
       "21149  joaquin phoenix, scarlett johansson, amy adams...  united states   \n",
       "\n",
       "      date_added  release_year rating  \\\n",
       "21149 2018-07-29          2013      r   \n",
       "\n",
       "                                       listed_in  \\\n",
       "21149  dramas, romantic movies, sci-fi & fantasy   \n",
       "\n",
       "                                             description  duration_int  \\\n",
       "21149  love comes to a lonely writer in the sleekest ...         126.0   \n",
       "\n",
       "      duration_type  score  \n",
       "21149           min    3.6  "
      ]
     },
     "execution_count": 222,
     "metadata": {},
     "output_type": "execute_result"
    }
   ],
   "source": [
    "df[df['title'] == 'her']"
   ]
  },
  {
   "attachments": {},
   "cell_type": "markdown",
   "metadata": {},
   "source": [
    "<b>Crear 7 funciones para la FastApi:<b>\n"
   ]
  },
  {
   "cell_type": "markdown",
   "metadata": {},
   "source": [
    "\n",
    "Película (sólo película, no serie, ni documentales, etc) con mayor duración según año, plataforma y tipo de duración. La función debe llamarse get_max_duration(year, platform, duration_type) y debe devolver sólo el string del nombre de la película.\n"
   ]
  },
  {
   "cell_type": "code",
   "execution_count": 223,
   "metadata": {},
   "outputs": [],
   "source": [
    "def get_max_duration(anio: int, plataforma: str, dtype: str):  \n",
    "    \n",
    "    # Me aseguro que si el usuario escribe en mayus se pase a minusculas.\n",
    "    dtype = dtype.lower()\n",
    "    platform = plataforma.lower()[0] #Aclaro indice en 0 para que tome la primer letra\n",
    "\n",
    "    # filtro por año de lanzamiento y plataforma aclarando que solo tenga en cuenta la primer letra de la columna ID.   \n",
    "    data_filtrada = df[(df['release_year'] == anio) & (df['id'].str.startswith(platform)) & (df['duration_type'] == dtype) & (df['type'] == 'movie')]    \n",
    "    \n",
    "    max_duration = data_filtrada['duration_int'].max()\n",
    "    max_duration_row = data_filtrada.loc[data_filtrada['duration_int'] == max_duration]    \n",
    "       \n",
    "    if not max_duration_row.empty:\n",
    "        # obtener el nombre de la película y devolverlo como una cadena de texto\n",
    "        movie_name = max_duration_row['title'].iloc[0]\n",
    "        return {'pelicula': movie_name}\n",
    "    else:\n",
    "        return {'No se encontraron peliculas que cumplan con los criterios de busqueda.'}"
   ]
  },
  {
   "cell_type": "code",
   "execution_count": 224,
   "metadata": {},
   "outputs": [
    {
     "data": {
      "text/plain": [
       "{'pelicula': 'unbreakable kimmy schmidt: kimmy vs. the reverend'}"
      ]
     },
     "execution_count": 224,
     "metadata": {},
     "output_type": "execute_result"
    }
   ],
   "source": [
    "get_max_duration(2020,'NETFLIX','min')"
   ]
  },
  {
   "cell_type": "code",
   "execution_count": 225,
   "metadata": {},
   "outputs": [
    {
     "data": {
      "text/plain": [
       "{'pelicula': 'soothing surf at del norte for sleep black screen'}"
      ]
     },
     "execution_count": 225,
     "metadata": {},
     "output_type": "execute_result"
    }
   ],
   "source": [
    "get_max_duration(2018,'amazon','min')\n"
   ]
  },
  {
   "cell_type": "code",
   "execution_count": 226,
   "metadata": {},
   "outputs": [
    {
     "data": {
      "text/plain": [
       "{'pelicula': \"dory's reef cam\"}"
      ]
     },
     "execution_count": 226,
     "metadata": {},
     "output_type": "execute_result"
    }
   ],
   "source": [
    "get_max_duration(2020,'disney','min')\n"
   ]
  },
  {
   "cell_type": "code",
   "execution_count": 227,
   "metadata": {},
   "outputs": [
    {
     "data": {
      "text/plain": [
       "{'pelicula': 'crock of gold: a few rounds with shane macgowan'}"
      ]
     },
     "execution_count": 227,
     "metadata": {},
     "output_type": "execute_result"
    }
   ],
   "source": [
    "get_max_duration(2020,'hulu','min')"
   ]
  },
  {
   "attachments": {},
   "cell_type": "markdown",
   "metadata": {},
   "source": [
    "--------------------------------------------------------------------------------------------------------------------------------------------------------"
   ]
  },
  {
   "cell_type": "markdown",
   "metadata": {},
   "source": [
    "\n",
    "Cantidad de películas (sólo películas, no series, ni documentales, etc) según plataforma, con un puntaje mayor a XX en determinado año. La función debe llamarse get_score_count(platform, scored, year) y debe devolver un int, con el total de películas que cumplen lo solicitado.\n"
   ]
  },
  {
   "cell_type": "code",
   "execution_count": 228,
   "metadata": {},
   "outputs": [],
   "source": [
    "def get_score_count(plataforma: str, scored: float, year: int):    \n",
    "    # Me aseguro que si el usuario escribe en mayus se pase a minusculas, en el caso de plataform solo me interesa la primer letra.\n",
    "    platform = plataforma.lower()[0]#Aclaro indice en 0 para que tome la primer letra\n",
    "        \n",
    "\n",
    "    data_filtrada = df[(df['id'].str.startswith(platform)) & (df['release_year'] == year) & (df['type'] == 'movie')]\n",
    "    \n",
    "    # contar la cantidad de películas que tienen el rating deseado\n",
    "    count = data_filtrada[data_filtrada['score'] > scored]['id'].count()\n",
    "    \n",
    "    return {'plataforma': plataforma,\n",
    "            'cantidad': int(count),\n",
    "            'anio': year,\n",
    "            'score': scored}"
   ]
  },
  {
   "cell_type": "code",
   "execution_count": 229,
   "metadata": {},
   "outputs": [
    {
     "data": {
      "text/plain": [
       "{'plataforma': 'NetFlix', 'cantidad': 190, 'anio': 2020, 'score': 3.5}"
      ]
     },
     "execution_count": 229,
     "metadata": {},
     "output_type": "execute_result"
    }
   ],
   "source": [
    "get_score_count('NetFlix',3.5, 2020)\n"
   ]
  },
  {
   "cell_type": "code",
   "execution_count": 230,
   "metadata": {},
   "outputs": [
    {
     "data": {
      "text/plain": [
       "{'plataforma': 'amazon', 'cantidad': 267, 'anio': 2020, 'score': 3.5}"
      ]
     },
     "execution_count": 230,
     "metadata": {},
     "output_type": "execute_result"
    }
   ],
   "source": [
    "get_score_count('amazon',3.5, 2020)\n"
   ]
  },
  {
   "cell_type": "code",
   "execution_count": 231,
   "metadata": {},
   "outputs": [
    {
     "data": {
      "text/plain": [
       "{'plataforma': 'hulu', 'cantidad': 83, 'anio': 2020, 'score': 3.5}"
      ]
     },
     "execution_count": 231,
     "metadata": {},
     "output_type": "execute_result"
    }
   ],
   "source": [
    "get_score_count('hulu',3.5, 2020)\n"
   ]
  },
  {
   "cell_type": "code",
   "execution_count": 232,
   "metadata": {},
   "outputs": [
    {
     "data": {
      "text/plain": [
       "{'plataforma': 'disney', 'cantidad': 34, 'anio': 2020, 'score': 3.5}"
      ]
     },
     "execution_count": 232,
     "metadata": {},
     "output_type": "execute_result"
    }
   ],
   "source": [
    "get_score_count('disney',3.5, 2020)"
   ]
  },
  {
   "attachments": {},
   "cell_type": "markdown",
   "metadata": {},
   "source": [
    "--------------------------------------------------------------------------------------------------------------------------------------------------------"
   ]
  },
  {
   "cell_type": "markdown",
   "metadata": {},
   "source": [
    "\n",
    "Cantidad de películas (sólo películas, no series, ni documentales, etc) según plataforma. La función debe llamarse get_count_platform(platform) y debe devolver un int, con el número total de películas de esa plataforma. Las plataformas deben llamarse amazon, netflix, hulu, disney.\n"
   ]
  },
  {
   "cell_type": "code",
   "execution_count": 233,
   "metadata": {},
   "outputs": [],
   "source": [
    "def get_count_platform(plataforma: str):\n",
    "        \n",
    "    # Me aseguro que si el usuario escribe en mayus se pase a minusculas, en el caso de plataform solo me interesa la primer letra.\n",
    "    platform = plataforma.lower()[0]#Aclaro indice en 0 para que tome la primer letra\n",
    "    \n",
    "    # Realizo el filtro para que cuente del dataframe solo la plataforma de la columna ID y movie de la columna type\n",
    "    data_filtrada = df[(df['id'].str.startswith(platform)) & (df['type'] == 'movie')].shape[0]    \n",
    "\n",
    "    return {'plataforma': plataforma,\n",
    "            'peliculas': data_filtrada}"
   ]
  },
  {
   "cell_type": "code",
   "execution_count": 234,
   "metadata": {},
   "outputs": [
    {
     "data": {
      "text/plain": [
       "{'plataforma': 'hulu', 'peliculas': 1484}"
      ]
     },
     "execution_count": 234,
     "metadata": {},
     "output_type": "execute_result"
    }
   ],
   "source": [
    "get_count_platform('hulu')\n"
   ]
  },
  {
   "cell_type": "code",
   "execution_count": 235,
   "metadata": {},
   "outputs": [
    {
     "data": {
      "text/plain": [
       "{'plataforma': 'amazon', 'peliculas': 7814}"
      ]
     },
     "execution_count": 235,
     "metadata": {},
     "output_type": "execute_result"
    }
   ],
   "source": [
    "get_count_platform('amazon')\n"
   ]
  },
  {
   "cell_type": "code",
   "execution_count": 236,
   "metadata": {},
   "outputs": [
    {
     "data": {
      "text/plain": [
       "{'plataforma': 'disney', 'peliculas': 1052}"
      ]
     },
     "execution_count": 236,
     "metadata": {},
     "output_type": "execute_result"
    }
   ],
   "source": [
    "get_count_platform('disney')\n"
   ]
  },
  {
   "cell_type": "code",
   "execution_count": 237,
   "metadata": {},
   "outputs": [
    {
     "data": {
      "text/plain": [
       "{'plataforma': 'netflix', 'peliculas': 6131}"
      ]
     },
     "execution_count": 237,
     "metadata": {},
     "output_type": "execute_result"
    }
   ],
   "source": [
    "get_count_platform('netflix')"
   ]
  },
  {
   "attachments": {},
   "cell_type": "markdown",
   "metadata": {},
   "source": [
    "--------------------------------------------------------------------------------------------------------------------------------------------------------"
   ]
  },
  {
   "cell_type": "markdown",
   "metadata": {},
   "source": [
    "\n",
    "Actor que más se repite según plataforma y año. La función debe llamarse get_actor(platform, year) y debe devolver sólo el string con el nombre del actor que más se repite según la plataforma y el año dado.\n"
   ]
  },
  {
   "cell_type": "code",
   "execution_count": 238,
   "metadata": {},
   "outputs": [],
   "source": [
    "def get_actor(plataforma: str, anio: int):    \n",
    "    \n",
    "    # Me aseguro que si el usuario escribe en mayus se pase a minusculas, en el caso de plataform solo me interesa la primer letra.\n",
    "    platform = plataforma.lower()[0]#Aclaro indice en 0 para que tome la primer letra\n",
    "    \n",
    "    \n",
    "    data_filtrada = df[(df['id'].str.startswith(platform)) & (df['release_year'] == anio)]   \n",
    " \n",
    "    # En este paso, se utiliza la función dropna() de pandas para eliminar los valores NaN de la columna \"cast\" del DataFrame. \n",
    "    # Luego, se utiliza el método apply() para aplicar la función str() a cada valor de la columna \"cast\", convirtiendo los valores a cadenas de caracteres. \n",
    "    # Finalmente, se utiliza el método str.split(',') para dividir cada cadena de caracteres en una lista de actores utilizando la coma como separador. \n",
    "    # El resultado es una serie de pandas que contiene una lista de actores para cada fila del DataFrame original.\n",
    "    actores_por_fila = data_filtrada['cast'].dropna().apply(lambda x: [i.strip() for i in x.split(',') if not i.strip().isdigit()])\n",
    "\n",
    "\n",
    "    # Cuento la cantidad de veces que aparece cada actor en todas las filas, utilizando la clase Counter de Python.\n",
    "    contador_actores = Counter()\n",
    "    for actores in actores_por_fila:\n",
    "        contador_actores.update(actores)\n",
    "\n",
    "    # Encuentro el actor que aparece más veces utilizando la funcion most common devolviendo una lista de tuplas donde cada tupla contiene un actor \n",
    "    # y la cantidad de veces que aparece en todas las filas del DataFrame.\n",
    "    # se asigna [0][0] para indicar el actor que mas veces aparece\n",
    "    actor_mas_repetido = contador_actores.most_common(1)\n",
    "    \n",
    "    if actor_mas_repetido:\n",
    "        # se asigna [0][0] para indicar el actor que mas veces aparece\n",
    "        actor_mas_repetido = actor_mas_repetido[0][0]\n",
    "    else:\n",
    "        return {'plataforma': plataforma,\n",
    "                'anio': anio,\n",
    "                'actor': \"No hay datos disponibles\",\n",
    "                'apariciones': \"No hay datos disponibles\"}\n",
    "\n",
    "    # Muestro el actor que aparece más veces y la cantidad de veces que aparece\n",
    "    cantidad_actor_mas_repetido = contador_actores[actor_mas_repetido]\n",
    "    return {'plataforma': plataforma,\n",
    "            'anio': anio,\n",
    "            'actor': actor_mas_repetido,\n",
    "            'apariciones': cantidad_actor_mas_repetido}"
   ]
  },
  {
   "cell_type": "code",
   "execution_count": 239,
   "metadata": {},
   "outputs": [
    {
     "data": {
      "text/plain": [
       "{'plataforma': 'amazon', 'anio': 2021, 'actor': 'om nom', 'apariciones': 10}"
      ]
     },
     "execution_count": 239,
     "metadata": {},
     "output_type": "execute_result"
    }
   ],
   "source": [
    "get_actor('amazon',2021)\n"
   ]
  },
  {
   "cell_type": "code",
   "execution_count": 240,
   "metadata": {},
   "outputs": [
    {
     "data": {
      "text/plain": [
       "{'plataforma': 'hulu',\n",
       " 'anio': 2020,\n",
       " 'actor': 'No hay datos disponibles',\n",
       " 'apariciones': 'No hay datos disponibles'}"
      ]
     },
     "execution_count": 240,
     "metadata": {},
     "output_type": "execute_result"
    }
   ],
   "source": [
    "get_actor('hulu',2020)\n"
   ]
  },
  {
   "cell_type": "code",
   "execution_count": 241,
   "metadata": {},
   "outputs": [
    {
     "data": {
      "text/plain": [
       "{'plataforma': 'netflix',\n",
       " 'anio': 2020,\n",
       " 'actor': 'blossom chukwujekwu',\n",
       " 'apariciones': 6}"
      ]
     },
     "execution_count": 241,
     "metadata": {},
     "output_type": "execute_result"
    }
   ],
   "source": [
    "get_actor('netflix',2020)\n"
   ]
  },
  {
   "cell_type": "code",
   "execution_count": 242,
   "metadata": {},
   "outputs": [
    {
     "data": {
      "text/plain": [
       "{'plataforma': 'disney',\n",
       " 'anio': 2020,\n",
       " 'actor': 'daveed diggs',\n",
       " 'apariciones': 3}"
      ]
     },
     "execution_count": 242,
     "metadata": {},
     "output_type": "execute_result"
    }
   ],
   "source": [
    "get_actor('disney',2020)"
   ]
  },
  {
   "attachments": {},
   "cell_type": "markdown",
   "metadata": {},
   "source": [
    "--------------------------------------------------------------------------------------------------------------------------------------------------------"
   ]
  },
  {
   "attachments": {},
   "cell_type": "markdown",
   "metadata": {},
   "source": [
    "\n",
    "La cantidad de contenidos/productos (todo lo disponible en streaming) que se publicó por país y año. La función debe llamarse prod_per_county(tipo,pais,anio) deberia devolver el tipo de contenido (pelicula,serie) por pais y año en un diccionario con las variables llamadas 'pais' (nombre del pais), 'anio' (año), 'pelicula' (tipo de contenido).\n"
   ]
  },
  {
   "cell_type": "code",
   "execution_count": 243,
   "metadata": {},
   "outputs": [],
   "source": [
    "def prod_per_county(tipo: str, pais: str, anio: int):   \n",
    "    \n",
    "    data_filtrada = df[(df['country'] == pais) & (df['type'] == tipo) & (df['release_year'] == anio)]\n",
    "    \n",
    "    # contar el número de filas que cumplen con los criterios\n",
    "    respuesta = len(data_filtrada)    \n",
    "    \n",
    "    return {'pais': pais,\n",
    "            'anio': anio,            \n",
    "            'peliculas': respuesta}"
   ]
  },
  {
   "cell_type": "code",
   "execution_count": 244,
   "metadata": {},
   "outputs": [
    {
     "data": {
      "text/plain": [
       "united states                                                  4997\n",
       "india                                                          1203\n",
       "united kingdom                                                  583\n",
       "japan                                                           515\n",
       "canada                                                          237\n",
       "                                                               ... \n",
       "lebanon, united arab emirates, france, switzerland, germany       1\n",
       "france, belgium, italy                                            1\n",
       "lebanon, united states, united arab emirates                      1\n",
       "lebanon, france                                                   1\n",
       "united arab emirates, jordan                                      1\n",
       "Name: country, Length: 886, dtype: int64"
      ]
     },
     "execution_count": 244,
     "metadata": {},
     "output_type": "execute_result"
    }
   ],
   "source": [
    "df['country'].value_counts()"
   ]
  },
  {
   "cell_type": "code",
   "execution_count": 245,
   "metadata": {},
   "outputs": [],
   "source": [
    "def prod_per_county(tipo: str, pais: str, anio: int):   \n",
    "    \n",
    "    # Realizo un filtro para que busque por tipo, año de lanzamiento y que el campo \"country\" contenga el país.\n",
    "    data_filtrada = df[(df['type'] == tipo) & (df['release_year'] == anio) & (df['country'].str.contains(pais))]\n",
    "    \n",
    "    # Separar los países en una lista y contarlos individualmente\n",
    "    count_por_pais = {}\n",
    "    for countries in data_filtrada['country']:\n",
    "        for country in countries.split(','):\n",
    "            if country.strip() not in count_por_pais:\n",
    "                count_por_pais[country.strip()] = 0\n",
    "            count_por_pais[country.strip()] += 1\n",
    "    \n",
    "    # Obtener el recuento de películas para el país especificado\n",
    "    respuesta = count_por_pais.get(pais, 0)\n",
    "    \n",
    "    return {'pais': pais,\n",
    "            'anio': anio,            \n",
    "            'peliculas': respuesta}\n"
   ]
  },
  {
   "cell_type": "code",
   "execution_count": 246,
   "metadata": {},
   "outputs": [
    {
     "data": {
      "text/plain": [
       "{'pais': 'united arab emirates', 'anio': 2014, 'peliculas': 5}"
      ]
     },
     "execution_count": 246,
     "metadata": {},
     "output_type": "execute_result"
    }
   ],
   "source": [
    "prod_per_county('movie','united arab emirates' , 2014)"
   ]
  },
  {
   "attachments": {},
   "cell_type": "markdown",
   "metadata": {},
   "source": [
    "--------------------------------------------------------------------------------------------------------------------------------------------------------"
   ]
  },
  {
   "cell_type": "markdown",
   "metadata": {},
   "source": [
    "\n",
    "La cantidad total de contenidos/productos (todo lo disponible en streaming, series, documentales, peliculas, etc) según el rating de audiencia dado (para que publico fue clasificada la pelicula). La función debe llamarse get_contents(rating) y debe devolver el numero total de contenido con ese rating de audiencias."
   ]
  },
  {
   "cell_type": "code",
   "execution_count": 247,
   "metadata": {},
   "outputs": [],
   "source": [
    "def get_contents(rating: str):       \n",
    "    \n",
    "    respuesta =  df['rating'].value_counts()[rating]\n",
    "\n",
    "    return {'rating': rating,\n",
    "            'contenido': int(respuesta)}"
   ]
  },
  {
   "cell_type": "code",
   "execution_count": 248,
   "metadata": {},
   "outputs": [
    {
     "data": {
      "text/plain": [
       "{'rating': 'g', 'contenido': 1269}"
      ]
     },
     "execution_count": 248,
     "metadata": {},
     "output_type": "execute_result"
    }
   ],
   "source": [
    "get_contents('g')"
   ]
  },
  {
   "attachments": {},
   "cell_type": "markdown",
   "metadata": {},
   "source": [
    "--------------------------------------------------------------------------------------------------------------------------------------------------------"
   ]
  },
  {
   "cell_type": "code",
   "execution_count": 249,
   "metadata": {},
   "outputs": [],
   "source": [
    "tfidf = TfidfVectorizer(stop_words='english')\n",
    "tfidf_matrix = tfidf.fit_transform(df['title'])\n"
   ]
  },
  {
   "attachments": {},
   "cell_type": "markdown",
   "metadata": {},
   "source": [
    "<b>Version A<b>"
   ]
  },
  {
   "cell_type": "code",
   "execution_count": 253,
   "metadata": {},
   "outputs": [],
   "source": [
    "def get_recommendations(movie_title: str):\n",
    "    indices = pd.Series(df.index, index=df['title'])\n",
    "    idx = indices[movie_title]\n",
    "\n",
    "    cosine_sim = cosine_similarity(tfidf_matrix[idx], tfidf_matrix)\n",
    "    sim_scores = list(enumerate(cosine_sim[0]))\n",
    "    sim_scores = sorted(sim_scores, key=lambda x: x[1], reverse=True)\n",
    "    sim_scores = sim_scores[1:6]\n",
    "    movie_indices = [i[0] for i in sim_scores]\n",
    "    respuesta = df['title'].iloc[movie_indices].tolist()\n",
    "    return {'recomendacion': respuesta}\n"
   ]
  },
  {
   "attachments": {},
   "cell_type": "markdown",
   "metadata": {},
   "source": [
    "<b>Version B<b>"
   ]
  },
  {
   "cell_type": "code",
   "execution_count": 216,
   "metadata": {},
   "outputs": [],
   "source": [
    "def get_recommendations(title: str):\n",
    "    df_ml = pd.read_csv('ML.csv')\n",
    "    # Crear el vectorizador TF-IDF\n",
    "    vectorizer = TfidfVectorizer()\n",
    "    # Aplicar el vectorizador a la columna 'listed_in' para obtener la matriz de características\n",
    "    tfidf_matrix = vectorizer.fit_transform(df_ml['listed_in'])\n",
    "    # Calcular la matriz de similitud de coseno\n",
    "    cosine_sim = cosine_similarity(tfidf_matrix)\n",
    "    # Obtener el índice de la película que coincide con el título proporcionado\n",
    "    idx = df_ml.index[df_ml['title'] == title.lower()].tolist()[0]\n",
    "\n",
    "    # Obtener las puntuaciones de similitud de coseno de la película con todas las demás películas\n",
    "    sim_scores = list(enumerate(cosine_sim[idx]))\n",
    "\n",
    "    # Ordenar las películas según las puntuaciones de similitud\n",
    "    sim_scores = sorted(sim_scores, key=lambda x: x[1], reverse=True)\n",
    "\n",
    "    # Obtener las cinco películas más similares, excluyendo la película de entrada\n",
    "    sim_scores = [i for i in sim_scores if df_ml.index[i[0]] != idx]\n",
    "    sim_scores = sim_scores[:5]\n",
    "\n",
    "    # Obtener los títulos de las cinco películas más similares\n",
    "    recomendaciones = df_ml.iloc[[i[0] for i in sim_scores]]['title'].tolist()\n",
    "\n",
    "    # Devolver las recomendaciones en el formato especificado\n",
    "    return {'recomendacion': recomendaciones}"
   ]
  },
  {
   "attachments": {},
   "cell_type": "markdown",
   "metadata": {},
   "source": [
    "VERSION C"
   ]
  },
  {
   "cell_type": "code",
   "execution_count": null,
   "metadata": {},
   "outputs": [],
   "source": [
    "def get_recommendations(title: str):\n",
    "    df_corr = pd.read_csv('ML.csv')\n",
    "    # Crear el vectorizador TF-IDF\n",
    "    vectorizer = TfidfVectorizer()\n",
    "    # Aplicar el vectorizador a la columna 'listed_in' para obtener la matriz de características\n",
    "    tfidf_matrix = vectorizer.fit_transform(df_corr['categorias'])\n",
    "    # Calcular la matriz de similitud de coseno\n",
    "    cosine_sim = cosine_similarity(tfidf_matrix) \n",
    "    idx = df_corr.index[df_corr['title'] == title.lower()].tolist()[0]\n",
    "    # Obtener las puntuaciones de similitud de coseno de la película con todas las demás películas\n",
    "    sim_scores = list(enumerate(cosine_sim[idx]))\n",
    "    # Ordenar las películas según las puntuaciones de similitud\n",
    "    sim_scores = sorted(sim_scores, key=lambda x: x[1], reverse=True)\n",
    "    # Obtener las cinco películas más similares, excluyendo la película de entrada\n",
    "    sim_scores = [i for i in sim_scores if df_corr.index[i[0]] != idx]\n",
    "    sim_scores = sim_scores[:5]\n",
    "    # Obtener los títulos de las cinco películas más similares\n",
    "    recomendaciones = df_corr.iloc[[i[0] for i in sim_scores]]['title'].tolist()\n",
    "    # Devolver las recomendaciones en el formato especificado\n",
    "    return {'recomendacion': recomendaciones}"
   ]
  },
  {
   "cell_type": "code",
   "execution_count": 251,
   "metadata": {},
   "outputs": [
    {
     "data": {
      "text/plain": [
       "{'recomendacion': ['the grand',\n",
       "  'five grand',\n",
       "  'grand hotel',\n",
       "  'the grand tour',\n",
       "  'grand army']}"
      ]
     },
     "execution_count": 251,
     "metadata": {},
     "output_type": "execute_result"
    }
   ],
   "source": [
    "get_recommendations('the grand seduction')"
   ]
  },
  {
   "cell_type": "code",
   "execution_count": 254,
   "metadata": {},
   "outputs": [
    {
     "data": {
      "text/plain": [
       "{'recomendacion': ['tarzan',\n",
       "  'tarzan',\n",
       "  'tarzan 2',\n",
       "  'tarzan ii',\n",
       "  'come on, tarzan']}"
      ]
     },
     "execution_count": 254,
     "metadata": {},
     "output_type": "execute_result"
    }
   ],
   "source": [
    "get_recommendations('tarzan')"
   ]
  },
  {
   "cell_type": "code",
   "execution_count": 204,
   "metadata": {},
   "outputs": [
    {
     "data": {
      "text/plain": [
       "{'recomendacion': ['war (telugu)',\n",
       "  'war (tamil)',\n",
       "  'v (tamil)',\n",
       "  'v (malayalam)',\n",
       "  'v (kannada)']}"
      ]
     },
     "execution_count": 204,
     "metadata": {},
     "output_type": "execute_result"
    }
   ],
   "source": [
    "get_recommendations('secrets of deception')\n"
   ]
  },
  {
   "cell_type": "code",
   "execution_count": 205,
   "metadata": {},
   "outputs": [
    {
     "data": {
      "text/plain": [
       "{'recomendacion': ['final destination',\n",
       "  'only god forgives',\n",
       "  'disco dancer',\n",
       "  'american psycho',\n",
       "  'chasing amy']}"
      ]
     },
     "execution_count": 205,
     "metadata": {},
     "output_type": "execute_result"
    }
   ],
   "source": [
    "get_recommendations('zodiac')\n"
   ]
  },
  {
   "cell_type": "code",
   "execution_count": 206,
   "metadata": {},
   "outputs": [
    {
     "data": {
      "text/plain": [
       "{'recomendacion': [\"it's a wonderful life\",\n",
       "  'one magic christmas',\n",
       "  'three days',\n",
       "  'copperman',\n",
       "  'night of a lone owl']}"
      ]
     },
     "execution_count": 206,
     "metadata": {},
     "output_type": "execute_result"
    }
   ],
   "source": [
    "get_recommendations('monster maker')\n"
   ]
  },
  {
   "cell_type": "code",
   "execution_count": 207,
   "metadata": {},
   "outputs": [
    {
     "data": {
      "text/plain": [
       "{'recomendacion': ['the lovely bones',\n",
       "  \"pan's labyrinth\",\n",
       "  'cosmos laundromat: first cycle',\n",
       "  'rainbow jelly',\n",
       "  'mirage']}"
      ]
     },
     "execution_count": 207,
     "metadata": {},
     "output_type": "execute_result"
    }
   ],
   "source": [
    "get_recommendations('into the forest')\n",
    "\n"
   ]
  }
 ],
 "metadata": {
  "kernelspec": {
   "display_name": "Python 3",
   "language": "python",
   "name": "python3"
  },
  "language_info": {
   "codemirror_mode": {
    "name": "ipython",
    "version": 3
   },
   "file_extension": ".py",
   "mimetype": "text/x-python",
   "name": "python",
   "nbconvert_exporter": "python",
   "pygments_lexer": "ipython3",
   "version": "3.11.0"
  },
  "orig_nbformat": 4
 },
 "nbformat": 4,
 "nbformat_minor": 2
}
